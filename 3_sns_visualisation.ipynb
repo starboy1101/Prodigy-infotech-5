{
 "cells": [
  {
   "cell_type": "markdown",
   "metadata": {},
   "source": [
    "# PRODIGY InfoTech Task-5-3\n",
    "Analyze traffic accident data to identify patterns related to road conditions, weather, and time of day. Visualize accident hotspots and contributing factors.\n",
    "\n",
    "Dataset :- https://www.kaggle.com/code/harshalbhamare/us-accident-eda"
   ]
  },
  {
   "cell_type": "code",
   "execution_count": 1,
   "metadata": {
    "execution": {
     "iopub.execute_input": "2022-06-04T21:20:04.78044Z",
     "iopub.status.busy": "2022-06-04T21:20:04.779679Z",
     "iopub.status.idle": "2022-06-04T21:20:04.790858Z",
     "shell.execute_reply": "2022-06-04T21:20:04.789382Z",
     "shell.execute_reply.started": "2022-06-04T21:20:04.780403Z"
    }
   },
   "outputs": [],
   "source": [
    "import pandas as pd\n",
    "import numpy as np\n",
    "import seaborn as sns\n",
    "import matplotlib.pyplot as plt"
   ]
  },
  {
   "cell_type": "code",
   "execution_count": 2,
   "metadata": {
    "execution": {
     "iopub.execute_input": "2022-06-04T21:20:04.792932Z",
     "iopub.status.busy": "2022-06-04T21:20:04.792315Z",
     "iopub.status.idle": "2022-06-04T21:20:34.104669Z",
     "shell.execute_reply": "2022-06-04T21:20:34.097491Z",
     "shell.execute_reply.started": "2022-06-04T21:20:04.792898Z"
    }
   },
   "outputs": [],
   "source": [
    "df_USA=pd.read_csv('sample.csv')"
   ]
  },
  {
   "cell_type": "code",
   "execution_count": 3,
   "metadata": {
    "execution": {
     "iopub.execute_input": "2022-06-04T21:20:34.11272Z",
     "iopub.status.busy": "2022-06-04T21:20:34.111708Z",
     "iopub.status.idle": "2022-06-04T21:20:34.159629Z",
     "shell.execute_reply": "2022-06-04T21:20:34.158932Z",
     "shell.execute_reply.started": "2022-06-04T21:20:34.112676Z"
    }
   },
   "outputs": [
    {
     "data": {
      "text/html": [
       "<div>\n",
       "<style scoped>\n",
       "    .dataframe tbody tr th:only-of-type {\n",
       "        vertical-align: middle;\n",
       "    }\n",
       "\n",
       "    .dataframe tbody tr th {\n",
       "        vertical-align: top;\n",
       "    }\n",
       "\n",
       "    .dataframe thead th {\n",
       "        text-align: right;\n",
       "    }\n",
       "</style>\n",
       "<table border=\"1\" class=\"dataframe\">\n",
       "  <thead>\n",
       "    <tr style=\"text-align: right;\">\n",
       "      <th></th>\n",
       "      <th>ID</th>\n",
       "      <th>Source</th>\n",
       "      <th>Severity</th>\n",
       "      <th>Start_Time</th>\n",
       "      <th>End_Time</th>\n",
       "      <th>Start_Lat</th>\n",
       "      <th>Start_Lng</th>\n",
       "      <th>End_Lat</th>\n",
       "      <th>End_Lng</th>\n",
       "      <th>Distance(mi)</th>\n",
       "      <th>...</th>\n",
       "      <th>Roundabout</th>\n",
       "      <th>Station</th>\n",
       "      <th>Stop</th>\n",
       "      <th>Traffic_Calming</th>\n",
       "      <th>Traffic_Signal</th>\n",
       "      <th>Turning_Loop</th>\n",
       "      <th>Sunrise_Sunset</th>\n",
       "      <th>Civil_Twilight</th>\n",
       "      <th>Nautical_Twilight</th>\n",
       "      <th>Astronomical_Twilight</th>\n",
       "    </tr>\n",
       "  </thead>\n",
       "  <tbody>\n",
       "    <tr>\n",
       "      <th>0</th>\n",
       "      <td>A-1154700</td>\n",
       "      <td>Source3</td>\n",
       "      <td>2</td>\n",
       "      <td>2021-02-12 08:22:52</td>\n",
       "      <td>2021-02-12 10:34:23</td>\n",
       "      <td>40.726833</td>\n",
       "      <td>-73.375107</td>\n",
       "      <td>NaN</td>\n",
       "      <td>NaN</td>\n",
       "      <td>0.000</td>\n",
       "      <td>...</td>\n",
       "      <td>False</td>\n",
       "      <td>False</td>\n",
       "      <td>False</td>\n",
       "      <td>False</td>\n",
       "      <td>False</td>\n",
       "      <td>False</td>\n",
       "      <td>Day</td>\n",
       "      <td>Day</td>\n",
       "      <td>Day</td>\n",
       "      <td>Day</td>\n",
       "    </tr>\n",
       "    <tr>\n",
       "      <th>1</th>\n",
       "      <td>A-7326903</td>\n",
       "      <td>Source1</td>\n",
       "      <td>2</td>\n",
       "      <td>2019-10-03 07:42:00</td>\n",
       "      <td>2019-10-03 08:53:59</td>\n",
       "      <td>35.446737</td>\n",
       "      <td>-120.638870</td>\n",
       "      <td>35.446737</td>\n",
       "      <td>-120.638870</td>\n",
       "      <td>0.000</td>\n",
       "      <td>...</td>\n",
       "      <td>False</td>\n",
       "      <td>False</td>\n",
       "      <td>False</td>\n",
       "      <td>False</td>\n",
       "      <td>False</td>\n",
       "      <td>False</td>\n",
       "      <td>Day</td>\n",
       "      <td>Day</td>\n",
       "      <td>Day</td>\n",
       "      <td>Day</td>\n",
       "    </tr>\n",
       "    <tr>\n",
       "      <th>2</th>\n",
       "      <td>A-2424082</td>\n",
       "      <td>Source2</td>\n",
       "      <td>2</td>\n",
       "      <td>2018-11-01 20:48:46</td>\n",
       "      <td>2018-11-01 21:18:25</td>\n",
       "      <td>39.983772</td>\n",
       "      <td>-76.734970</td>\n",
       "      <td>NaN</td>\n",
       "      <td>NaN</td>\n",
       "      <td>0.000</td>\n",
       "      <td>...</td>\n",
       "      <td>False</td>\n",
       "      <td>False</td>\n",
       "      <td>False</td>\n",
       "      <td>False</td>\n",
       "      <td>True</td>\n",
       "      <td>False</td>\n",
       "      <td>Night</td>\n",
       "      <td>Night</td>\n",
       "      <td>Night</td>\n",
       "      <td>Night</td>\n",
       "    </tr>\n",
       "    <tr>\n",
       "      <th>3</th>\n",
       "      <td>A-305665</td>\n",
       "      <td>Source2</td>\n",
       "      <td>3</td>\n",
       "      <td>2016-07-25 07:17:34</td>\n",
       "      <td>2016-07-25 08:06:51</td>\n",
       "      <td>29.797060</td>\n",
       "      <td>-95.271584</td>\n",
       "      <td>NaN</td>\n",
       "      <td>NaN</td>\n",
       "      <td>0.000</td>\n",
       "      <td>...</td>\n",
       "      <td>False</td>\n",
       "      <td>False</td>\n",
       "      <td>False</td>\n",
       "      <td>False</td>\n",
       "      <td>True</td>\n",
       "      <td>False</td>\n",
       "      <td>Day</td>\n",
       "      <td>Day</td>\n",
       "      <td>Day</td>\n",
       "      <td>Day</td>\n",
       "    </tr>\n",
       "    <tr>\n",
       "      <th>4</th>\n",
       "      <td>A-6189814</td>\n",
       "      <td>Source1</td>\n",
       "      <td>2</td>\n",
       "      <td>2021-03-12 05:54:00.000000000</td>\n",
       "      <td>2021-03-12 16:54:21.000000000</td>\n",
       "      <td>34.277612</td>\n",
       "      <td>-118.608624</td>\n",
       "      <td>34.277312</td>\n",
       "      <td>-118.604924</td>\n",
       "      <td>0.212</td>\n",
       "      <td>...</td>\n",
       "      <td>False</td>\n",
       "      <td>False</td>\n",
       "      <td>False</td>\n",
       "      <td>False</td>\n",
       "      <td>False</td>\n",
       "      <td>False</td>\n",
       "      <td>Night</td>\n",
       "      <td>Day</td>\n",
       "      <td>Day</td>\n",
       "      <td>Day</td>\n",
       "    </tr>\n",
       "  </tbody>\n",
       "</table>\n",
       "<p>5 rows × 46 columns</p>\n",
       "</div>"
      ],
      "text/plain": [
       "          ID   Source  Severity                     Start_Time  \\\n",
       "0  A-1154700  Source3         2            2021-02-12 08:22:52   \n",
       "1  A-7326903  Source1         2            2019-10-03 07:42:00   \n",
       "2  A-2424082  Source2         2            2018-11-01 20:48:46   \n",
       "3   A-305665  Source2         3            2016-07-25 07:17:34   \n",
       "4  A-6189814  Source1         2  2021-03-12 05:54:00.000000000   \n",
       "\n",
       "                        End_Time  Start_Lat   Start_Lng    End_Lat  \\\n",
       "0            2021-02-12 10:34:23  40.726833  -73.375107        NaN   \n",
       "1            2019-10-03 08:53:59  35.446737 -120.638870  35.446737   \n",
       "2            2018-11-01 21:18:25  39.983772  -76.734970        NaN   \n",
       "3            2016-07-25 08:06:51  29.797060  -95.271584        NaN   \n",
       "4  2021-03-12 16:54:21.000000000  34.277612 -118.608624  34.277312   \n",
       "\n",
       "      End_Lng  Distance(mi)  ... Roundabout Station   Stop Traffic_Calming  \\\n",
       "0         NaN         0.000  ...      False   False  False           False   \n",
       "1 -120.638870         0.000  ...      False   False  False           False   \n",
       "2         NaN         0.000  ...      False   False  False           False   \n",
       "3         NaN         0.000  ...      False   False  False           False   \n",
       "4 -118.604924         0.212  ...      False   False  False           False   \n",
       "\n",
       "  Traffic_Signal Turning_Loop Sunrise_Sunset Civil_Twilight Nautical_Twilight  \\\n",
       "0          False        False            Day            Day               Day   \n",
       "1          False        False            Day            Day               Day   \n",
       "2           True        False          Night          Night             Night   \n",
       "3           True        False            Day            Day               Day   \n",
       "4          False        False          Night            Day               Day   \n",
       "\n",
       "  Astronomical_Twilight  \n",
       "0                   Day  \n",
       "1                   Day  \n",
       "2                 Night  \n",
       "3                   Day  \n",
       "4                   Day  \n",
       "\n",
       "[5 rows x 46 columns]"
      ]
     },
     "execution_count": 3,
     "metadata": {},
     "output_type": "execute_result"
    }
   ],
   "source": [
    "df_USA.head()"
   ]
  },
  {
   "cell_type": "code",
   "execution_count": 4,
   "metadata": {
    "execution": {
     "iopub.execute_input": "2022-06-04T21:20:34.16443Z",
     "iopub.status.busy": "2022-06-04T21:20:34.163771Z",
     "iopub.status.idle": "2022-06-04T21:20:34.172667Z",
     "shell.execute_reply": "2022-06-04T21:20:34.171684Z",
     "shell.execute_reply.started": "2022-06-04T21:20:34.164397Z"
    }
   },
   "outputs": [
    {
     "data": {
      "text/plain": [
       "Index(['ID', 'Source', 'Severity', 'Start_Time', 'End_Time', 'Start_Lat',\n",
       "       'Start_Lng', 'End_Lat', 'End_Lng', 'Distance(mi)', 'Description',\n",
       "       'Street', 'City', 'County', 'State', 'Zipcode', 'Country', 'Timezone',\n",
       "       'Airport_Code', 'Weather_Timestamp', 'Temperature(F)', 'Wind_Chill(F)',\n",
       "       'Humidity(%)', 'Pressure(in)', 'Visibility(mi)', 'Wind_Direction',\n",
       "       'Wind_Speed(mph)', 'Precipitation(in)', 'Weather_Condition', 'Amenity',\n",
       "       'Bump', 'Crossing', 'Give_Way', 'Junction', 'No_Exit', 'Railway',\n",
       "       'Roundabout', 'Station', 'Stop', 'Traffic_Calming', 'Traffic_Signal',\n",
       "       'Turning_Loop', 'Sunrise_Sunset', 'Civil_Twilight', 'Nautical_Twilight',\n",
       "       'Astronomical_Twilight'],\n",
       "      dtype='object')"
      ]
     },
     "execution_count": 4,
     "metadata": {},
     "output_type": "execute_result"
    }
   ],
   "source": [
    "df_USA.columns"
   ]
  },
  {
   "cell_type": "code",
   "execution_count": 5,
   "metadata": {
    "execution": {
     "iopub.execute_input": "2022-06-04T21:20:34.174922Z",
     "iopub.status.busy": "2022-06-04T21:20:34.174372Z",
     "iopub.status.idle": "2022-06-04T21:20:34.188145Z",
     "shell.execute_reply": "2022-06-04T21:20:34.187337Z",
     "shell.execute_reply.started": "2022-06-04T21:20:34.174887Z"
    }
   },
   "outputs": [
    {
     "data": {
      "text/plain": [
       "object     20\n",
       "bool       13\n",
       "float64    12\n",
       "int64       1\n",
       "dtype: int64"
      ]
     },
     "execution_count": 5,
     "metadata": {},
     "output_type": "execute_result"
    }
   ],
   "source": [
    "df_USA.dtypes.value_counts()"
   ]
  },
  {
   "cell_type": "markdown",
   "metadata": {},
   "source": [
    "# Shape of original data "
   ]
  },
  {
   "cell_type": "code",
   "execution_count": 6,
   "metadata": {
    "execution": {
     "iopub.execute_input": "2022-06-04T21:20:34.19008Z",
     "iopub.status.busy": "2022-06-04T21:20:34.189518Z",
     "iopub.status.idle": "2022-06-04T21:20:34.201822Z",
     "shell.execute_reply": "2022-06-04T21:20:34.200834Z",
     "shell.execute_reply.started": "2022-06-04T21:20:34.190048Z"
    }
   },
   "outputs": [
    {
     "data": {
      "text/plain": [
       "(100000, 46)"
      ]
     },
     "execution_count": 6,
     "metadata": {},
     "output_type": "execute_result"
    }
   ],
   "source": [
    "df_USA.shape   # USA DATASET "
   ]
  },
  {
   "cell_type": "markdown",
   "metadata": {
    "execution": {
     "iopub.execute_input": "2022-06-04T18:43:32.218688Z",
     "iopub.status.busy": "2022-06-04T18:43:32.218354Z",
     "iopub.status.idle": "2022-06-04T18:43:32.497813Z",
     "shell.execute_reply": "2022-06-04T18:43:32.496749Z",
     "shell.execute_reply.started": "2022-06-04T18:43:32.218659Z"
    }
   },
   "source": [
    "num_col=df.select_dtypes('number')\n",
    "cat_col=df.select_dtypes('object')\n",
    "bool_col=df.select_dtypes('bool')\n",
    "float_col=df.select_dtypes('float64')\n",
    "float_col=df.select_dtypes('int64')\n",
    "\n"
   ]
  },
  {
   "cell_type": "markdown",
   "metadata": {
    "execution": {
     "iopub.execute_input": "2022-06-04T19:21:50.534729Z",
     "iopub.status.busy": "2022-06-04T19:21:50.534304Z",
     "iopub.status.idle": "2022-06-04T19:21:51.134368Z",
     "shell.execute_reply": "2022-06-04T19:21:51.132737Z",
     "shell.execute_reply.started": "2022-06-04T19:21:50.534689Z"
    }
   },
   "source": [
    "missing_data = df.isna().sum(axis=0).sort_values(ascending=True)\n",
    "missing_data = missing_data.to_frame()\n",
    "missing_data.columns = ['missing_count']\n",
    "missing_data = missing_data.loc[missing_data['missing_count']>0]\n",
    "\n",
    "missing_data"
   ]
  },
  {
   "cell_type": "code",
   "execution_count": 7,
   "metadata": {
    "execution": {
     "iopub.execute_input": "2022-06-04T21:20:34.203805Z",
     "iopub.status.busy": "2022-06-04T21:20:34.203046Z",
     "iopub.status.idle": "2022-06-04T21:20:34.216831Z",
     "shell.execute_reply": "2022-06-04T21:20:34.215432Z",
     "shell.execute_reply.started": "2022-06-04T21:20:34.203779Z"
    }
   },
   "outputs": [],
   "source": [
    "# COLUMN NUMBER has highest no of null value , we cam drop that col further"
   ]
  },
  {
   "cell_type": "code",
   "execution_count": 8,
   "metadata": {
    "execution": {
     "iopub.execute_input": "2022-06-04T21:20:34.218922Z",
     "iopub.status.busy": "2022-06-04T21:20:34.21861Z",
     "iopub.status.idle": "2022-06-04T21:20:35.904812Z",
     "shell.execute_reply": "2022-06-04T21:20:35.903429Z",
     "shell.execute_reply.started": "2022-06-04T21:20:34.218895Z"
    }
   },
   "outputs": [
    {
     "data": {
      "text/html": [
       "<div>\n",
       "<style scoped>\n",
       "    .dataframe tbody tr th:only-of-type {\n",
       "        vertical-align: middle;\n",
       "    }\n",
       "\n",
       "    .dataframe tbody tr th {\n",
       "        vertical-align: top;\n",
       "    }\n",
       "\n",
       "    .dataframe thead th {\n",
       "        text-align: right;\n",
       "    }\n",
       "</style>\n",
       "<table border=\"1\" class=\"dataframe\">\n",
       "  <thead>\n",
       "    <tr style=\"text-align: right;\">\n",
       "      <th></th>\n",
       "      <th>Severity</th>\n",
       "      <th>Start_Lat</th>\n",
       "      <th>Start_Lng</th>\n",
       "      <th>End_Lat</th>\n",
       "      <th>End_Lng</th>\n",
       "      <th>Distance(mi)</th>\n",
       "      <th>Temperature(F)</th>\n",
       "      <th>Wind_Chill(F)</th>\n",
       "      <th>Humidity(%)</th>\n",
       "      <th>Pressure(in)</th>\n",
       "      <th>Visibility(mi)</th>\n",
       "      <th>Wind_Speed(mph)</th>\n",
       "      <th>Precipitation(in)</th>\n",
       "    </tr>\n",
       "  </thead>\n",
       "  <tbody>\n",
       "    <tr>\n",
       "      <th>count</th>\n",
       "      <td>100000.000000</td>\n",
       "      <td>100000.000000</td>\n",
       "      <td>100000.000000</td>\n",
       "      <td>55805.000000</td>\n",
       "      <td>55805.000000</td>\n",
       "      <td>100000.000000</td>\n",
       "      <td>97891.000000</td>\n",
       "      <td>73974.000000</td>\n",
       "      <td>97754.000000</td>\n",
       "      <td>98171.000000</td>\n",
       "      <td>97699.000000</td>\n",
       "      <td>92610.000000</td>\n",
       "      <td>71306.000000</td>\n",
       "    </tr>\n",
       "    <tr>\n",
       "      <th>mean</th>\n",
       "      <td>2.215750</td>\n",
       "      <td>36.202981</td>\n",
       "      <td>-94.707744</td>\n",
       "      <td>36.244645</td>\n",
       "      <td>-95.784577</td>\n",
       "      <td>0.572272</td>\n",
       "      <td>61.664438</td>\n",
       "      <td>58.187762</td>\n",
       "      <td>64.862850</td>\n",
       "      <td>29.541586</td>\n",
       "      <td>9.089014</td>\n",
       "      <td>7.684993</td>\n",
       "      <td>0.008084</td>\n",
       "    </tr>\n",
       "    <tr>\n",
       "      <th>std</th>\n",
       "      <td>0.489044</td>\n",
       "      <td>5.074386</td>\n",
       "      <td>17.369883</td>\n",
       "      <td>5.266659</td>\n",
       "      <td>18.065684</td>\n",
       "      <td>1.748757</td>\n",
       "      <td>18.959892</td>\n",
       "      <td>22.364681</td>\n",
       "      <td>22.788404</td>\n",
       "      <td>1.005107</td>\n",
       "      <td>2.675489</td>\n",
       "      <td>5.278075</td>\n",
       "      <td>0.087878</td>\n",
       "    </tr>\n",
       "    <tr>\n",
       "      <th>min</th>\n",
       "      <td>1.000000</td>\n",
       "      <td>24.575375</td>\n",
       "      <td>-124.497357</td>\n",
       "      <td>24.574505</td>\n",
       "      <td>-124.497438</td>\n",
       "      <td>0.000000</td>\n",
       "      <td>-35.000000</td>\n",
       "      <td>-52.600000</td>\n",
       "      <td>2.000000</td>\n",
       "      <td>19.780000</td>\n",
       "      <td>0.000000</td>\n",
       "      <td>0.000000</td>\n",
       "      <td>0.000000</td>\n",
       "    </tr>\n",
       "    <tr>\n",
       "      <th>25%</th>\n",
       "      <td>2.000000</td>\n",
       "      <td>33.409148</td>\n",
       "      <td>-117.210415</td>\n",
       "      <td>33.462480</td>\n",
       "      <td>-117.755496</td>\n",
       "      <td>0.000000</td>\n",
       "      <td>49.000000</td>\n",
       "      <td>43.000000</td>\n",
       "      <td>48.000000</td>\n",
       "      <td>29.360000</td>\n",
       "      <td>10.000000</td>\n",
       "      <td>4.600000</td>\n",
       "      <td>0.000000</td>\n",
       "    </tr>\n",
       "    <tr>\n",
       "      <th>50%</th>\n",
       "      <td>2.000000</td>\n",
       "      <td>35.821520</td>\n",
       "      <td>-87.814144</td>\n",
       "      <td>36.160740</td>\n",
       "      <td>-88.123211</td>\n",
       "      <td>0.029000</td>\n",
       "      <td>64.000000</td>\n",
       "      <td>62.000000</td>\n",
       "      <td>67.000000</td>\n",
       "      <td>29.860000</td>\n",
       "      <td>10.000000</td>\n",
       "      <td>7.000000</td>\n",
       "      <td>0.000000</td>\n",
       "    </tr>\n",
       "    <tr>\n",
       "      <th>75%</th>\n",
       "      <td>2.000000</td>\n",
       "      <td>40.091411</td>\n",
       "      <td>-80.358269</td>\n",
       "      <td>40.160100</td>\n",
       "      <td>-80.263355</td>\n",
       "      <td>0.468250</td>\n",
       "      <td>76.000000</td>\n",
       "      <td>75.000000</td>\n",
       "      <td>84.000000</td>\n",
       "      <td>30.030000</td>\n",
       "      <td>10.000000</td>\n",
       "      <td>10.400000</td>\n",
       "      <td>0.000000</td>\n",
       "    </tr>\n",
       "    <tr>\n",
       "      <th>max</th>\n",
       "      <td>4.000000</td>\n",
       "      <td>48.972705</td>\n",
       "      <td>-68.368760</td>\n",
       "      <td>48.984665</td>\n",
       "      <td>-68.365150</td>\n",
       "      <td>76.000000</td>\n",
       "      <td>162.000000</td>\n",
       "      <td>162.000000</td>\n",
       "      <td>100.000000</td>\n",
       "      <td>58.630000</td>\n",
       "      <td>100.000000</td>\n",
       "      <td>57.500000</td>\n",
       "      <td>10.050000</td>\n",
       "    </tr>\n",
       "  </tbody>\n",
       "</table>\n",
       "</div>"
      ],
      "text/plain": [
       "            Severity      Start_Lat      Start_Lng       End_Lat  \\\n",
       "count  100000.000000  100000.000000  100000.000000  55805.000000   \n",
       "mean        2.215750      36.202981     -94.707744     36.244645   \n",
       "std         0.489044       5.074386      17.369883      5.266659   \n",
       "min         1.000000      24.575375    -124.497357     24.574505   \n",
       "25%         2.000000      33.409148    -117.210415     33.462480   \n",
       "50%         2.000000      35.821520     -87.814144     36.160740   \n",
       "75%         2.000000      40.091411     -80.358269     40.160100   \n",
       "max         4.000000      48.972705     -68.368760     48.984665   \n",
       "\n",
       "            End_Lng   Distance(mi)  Temperature(F)  Wind_Chill(F)  \\\n",
       "count  55805.000000  100000.000000    97891.000000   73974.000000   \n",
       "mean     -95.784577       0.572272       61.664438      58.187762   \n",
       "std       18.065684       1.748757       18.959892      22.364681   \n",
       "min     -124.497438       0.000000      -35.000000     -52.600000   \n",
       "25%     -117.755496       0.000000       49.000000      43.000000   \n",
       "50%      -88.123211       0.029000       64.000000      62.000000   \n",
       "75%      -80.263355       0.468250       76.000000      75.000000   \n",
       "max      -68.365150      76.000000      162.000000     162.000000   \n",
       "\n",
       "        Humidity(%)  Pressure(in)  Visibility(mi)  Wind_Speed(mph)  \\\n",
       "count  97754.000000  98171.000000    97699.000000     92610.000000   \n",
       "mean      64.862850     29.541586        9.089014         7.684993   \n",
       "std       22.788404      1.005107        2.675489         5.278075   \n",
       "min        2.000000     19.780000        0.000000         0.000000   \n",
       "25%       48.000000     29.360000       10.000000         4.600000   \n",
       "50%       67.000000     29.860000       10.000000         7.000000   \n",
       "75%       84.000000     30.030000       10.000000        10.400000   \n",
       "max      100.000000     58.630000      100.000000        57.500000   \n",
       "\n",
       "       Precipitation(in)  \n",
       "count       71306.000000  \n",
       "mean            0.008084  \n",
       "std             0.087878  \n",
       "min             0.000000  \n",
       "25%             0.000000  \n",
       "50%             0.000000  \n",
       "75%             0.000000  \n",
       "max            10.050000  "
      ]
     },
     "execution_count": 8,
     "metadata": {},
     "output_type": "execute_result"
    }
   ],
   "source": [
    "df_USA.describe()"
   ]
  },
  {
   "cell_type": "code",
   "execution_count": 9,
   "metadata": {
    "execution": {
     "iopub.execute_input": "2022-06-04T21:20:35.906475Z",
     "iopub.status.busy": "2022-06-04T21:20:35.906147Z",
     "iopub.status.idle": "2022-06-04T21:20:35.915525Z",
     "shell.execute_reply": "2022-06-04T21:20:35.91425Z",
     "shell.execute_reply.started": "2022-06-04T21:20:35.906442Z"
    }
   },
   "outputs": [
    {
     "data": {
      "text/plain": [
       "<bound method Series.unique of 0        NY\n",
       "1        CA\n",
       "2        PA\n",
       "3        TX\n",
       "4        CA\n",
       "         ..\n",
       "99995    NY\n",
       "99996    VA\n",
       "99997    CA\n",
       "99998    FL\n",
       "99999    CA\n",
       "Name: State, Length: 100000, dtype: object>"
      ]
     },
     "execution_count": 9,
     "metadata": {},
     "output_type": "execute_result"
    }
   ],
   "source": [
    "df_USA.State.unique"
   ]
  },
  {
   "cell_type": "code",
   "execution_count": 10,
   "metadata": {
    "execution": {
     "iopub.execute_input": "2022-06-04T21:20:35.917774Z",
     "iopub.status.busy": "2022-06-04T21:20:35.916896Z",
     "iopub.status.idle": "2022-06-04T21:20:36.442974Z",
     "shell.execute_reply": "2022-06-04T21:20:36.441169Z",
     "shell.execute_reply.started": "2022-06-04T21:20:35.917737Z"
    }
   },
   "outputs": [],
   "source": [
    "df1=df_USA[df_USA['State']=='CA']"
   ]
  },
  {
   "cell_type": "code",
   "execution_count": 11,
   "metadata": {
    "execution": {
     "iopub.execute_input": "2022-06-04T21:52:07.743978Z",
     "iopub.status.busy": "2022-06-04T21:52:07.743345Z",
     "iopub.status.idle": "2022-06-04T21:52:11.383096Z",
     "shell.execute_reply": "2022-06-04T21:52:11.381192Z",
     "shell.execute_reply.started": "2022-06-04T21:52:07.743918Z"
    }
   },
   "outputs": [],
   "source": [
    "#df1['IDD'] = df1['ID'].astype('str').str.extractall('(\\d+)').unstack().fillna('').sum(axis=1).astype(int)"
   ]
  },
  {
   "cell_type": "code",
   "execution_count": 12,
   "metadata": {
    "execution": {
     "iopub.execute_input": "2022-06-04T21:52:15.948632Z",
     "iopub.status.busy": "2022-06-04T21:52:15.948303Z",
     "iopub.status.idle": "2022-06-04T21:52:16.440538Z",
     "shell.execute_reply": "2022-06-04T21:52:16.439242Z",
     "shell.execute_reply.started": "2022-06-04T21:52:15.948608Z"
    }
   },
   "outputs": [
    {
     "data": {
      "text/html": [
       "<div>\n",
       "<style scoped>\n",
       "    .dataframe tbody tr th:only-of-type {\n",
       "        vertical-align: middle;\n",
       "    }\n",
       "\n",
       "    .dataframe tbody tr th {\n",
       "        vertical-align: top;\n",
       "    }\n",
       "\n",
       "    .dataframe thead th {\n",
       "        text-align: right;\n",
       "    }\n",
       "</style>\n",
       "<table border=\"1\" class=\"dataframe\">\n",
       "  <thead>\n",
       "    <tr style=\"text-align: right;\">\n",
       "      <th></th>\n",
       "      <th>ID</th>\n",
       "      <th>Source</th>\n",
       "      <th>Severity</th>\n",
       "      <th>Start_Time</th>\n",
       "      <th>End_Time</th>\n",
       "      <th>Start_Lat</th>\n",
       "      <th>Start_Lng</th>\n",
       "      <th>End_Lat</th>\n",
       "      <th>End_Lng</th>\n",
       "      <th>Distance(mi)</th>\n",
       "      <th>...</th>\n",
       "      <th>Roundabout</th>\n",
       "      <th>Station</th>\n",
       "      <th>Stop</th>\n",
       "      <th>Traffic_Calming</th>\n",
       "      <th>Traffic_Signal</th>\n",
       "      <th>Turning_Loop</th>\n",
       "      <th>Sunrise_Sunset</th>\n",
       "      <th>Civil_Twilight</th>\n",
       "      <th>Nautical_Twilight</th>\n",
       "      <th>Astronomical_Twilight</th>\n",
       "    </tr>\n",
       "  </thead>\n",
       "  <tbody>\n",
       "    <tr>\n",
       "      <th>1</th>\n",
       "      <td>A-7326903</td>\n",
       "      <td>Source1</td>\n",
       "      <td>2</td>\n",
       "      <td>2019-10-03 07:42:00</td>\n",
       "      <td>2019-10-03 08:53:59</td>\n",
       "      <td>35.446737</td>\n",
       "      <td>-120.638870</td>\n",
       "      <td>35.446737</td>\n",
       "      <td>-120.638870</td>\n",
       "      <td>0.000</td>\n",
       "      <td>...</td>\n",
       "      <td>False</td>\n",
       "      <td>False</td>\n",
       "      <td>False</td>\n",
       "      <td>False</td>\n",
       "      <td>False</td>\n",
       "      <td>False</td>\n",
       "      <td>Day</td>\n",
       "      <td>Day</td>\n",
       "      <td>Day</td>\n",
       "      <td>Day</td>\n",
       "    </tr>\n",
       "    <tr>\n",
       "      <th>4</th>\n",
       "      <td>A-6189814</td>\n",
       "      <td>Source1</td>\n",
       "      <td>2</td>\n",
       "      <td>2021-03-12 05:54:00.000000000</td>\n",
       "      <td>2021-03-12 16:54:21.000000000</td>\n",
       "      <td>34.277612</td>\n",
       "      <td>-118.608624</td>\n",
       "      <td>34.277312</td>\n",
       "      <td>-118.604924</td>\n",
       "      <td>0.212</td>\n",
       "      <td>...</td>\n",
       "      <td>False</td>\n",
       "      <td>False</td>\n",
       "      <td>False</td>\n",
       "      <td>False</td>\n",
       "      <td>False</td>\n",
       "      <td>False</td>\n",
       "      <td>Night</td>\n",
       "      <td>Day</td>\n",
       "      <td>Day</td>\n",
       "      <td>Day</td>\n",
       "    </tr>\n",
       "    <tr>\n",
       "      <th>5</th>\n",
       "      <td>A-2297914</td>\n",
       "      <td>Source2</td>\n",
       "      <td>2</td>\n",
       "      <td>2019-02-20 14:04:24</td>\n",
       "      <td>2019-02-20 14:34:16</td>\n",
       "      <td>38.363239</td>\n",
       "      <td>-122.741333</td>\n",
       "      <td>NaN</td>\n",
       "      <td>NaN</td>\n",
       "      <td>0.000</td>\n",
       "      <td>...</td>\n",
       "      <td>False</td>\n",
       "      <td>False</td>\n",
       "      <td>False</td>\n",
       "      <td>False</td>\n",
       "      <td>False</td>\n",
       "      <td>False</td>\n",
       "      <td>Day</td>\n",
       "      <td>Day</td>\n",
       "      <td>Day</td>\n",
       "      <td>Day</td>\n",
       "    </tr>\n",
       "    <tr>\n",
       "      <th>7</th>\n",
       "      <td>A-6609590</td>\n",
       "      <td>Source1</td>\n",
       "      <td>2</td>\n",
       "      <td>2020-12-07 20:12:30</td>\n",
       "      <td>2020-12-08 03:55:30</td>\n",
       "      <td>34.127088</td>\n",
       "      <td>-118.474797</td>\n",
       "      <td>34.148444</td>\n",
       "      <td>-118.469301</td>\n",
       "      <td>1.509</td>\n",
       "      <td>...</td>\n",
       "      <td>False</td>\n",
       "      <td>False</td>\n",
       "      <td>False</td>\n",
       "      <td>False</td>\n",
       "      <td>False</td>\n",
       "      <td>False</td>\n",
       "      <td>Night</td>\n",
       "      <td>Night</td>\n",
       "      <td>Night</td>\n",
       "      <td>Night</td>\n",
       "    </tr>\n",
       "    <tr>\n",
       "      <th>13</th>\n",
       "      <td>A-6452577</td>\n",
       "      <td>Source1</td>\n",
       "      <td>2</td>\n",
       "      <td>2021-02-17 14:15:00</td>\n",
       "      <td>2021-02-17 16:34:12</td>\n",
       "      <td>34.156673</td>\n",
       "      <td>-118.417126</td>\n",
       "      <td>34.156663</td>\n",
       "      <td>-118.413786</td>\n",
       "      <td>0.191</td>\n",
       "      <td>...</td>\n",
       "      <td>False</td>\n",
       "      <td>False</td>\n",
       "      <td>False</td>\n",
       "      <td>False</td>\n",
       "      <td>False</td>\n",
       "      <td>False</td>\n",
       "      <td>Day</td>\n",
       "      <td>Day</td>\n",
       "      <td>Day</td>\n",
       "      <td>Day</td>\n",
       "    </tr>\n",
       "    <tr>\n",
       "      <th>...</th>\n",
       "      <td>...</td>\n",
       "      <td>...</td>\n",
       "      <td>...</td>\n",
       "      <td>...</td>\n",
       "      <td>...</td>\n",
       "      <td>...</td>\n",
       "      <td>...</td>\n",
       "      <td>...</td>\n",
       "      <td>...</td>\n",
       "      <td>...</td>\n",
       "      <td>...</td>\n",
       "      <td>...</td>\n",
       "      <td>...</td>\n",
       "      <td>...</td>\n",
       "      <td>...</td>\n",
       "      <td>...</td>\n",
       "      <td>...</td>\n",
       "      <td>...</td>\n",
       "      <td>...</td>\n",
       "      <td>...</td>\n",
       "      <td>...</td>\n",
       "    </tr>\n",
       "    <tr>\n",
       "      <th>99986</th>\n",
       "      <td>A-5400920</td>\n",
       "      <td>Source1</td>\n",
       "      <td>2</td>\n",
       "      <td>2022-04-26 09:51:00.000000000</td>\n",
       "      <td>2022-04-26 11:55:59.000000000</td>\n",
       "      <td>33.685251</td>\n",
       "      <td>-117.896551</td>\n",
       "      <td>33.688031</td>\n",
       "      <td>-117.901781</td>\n",
       "      <td>0.357</td>\n",
       "      <td>...</td>\n",
       "      <td>False</td>\n",
       "      <td>False</td>\n",
       "      <td>False</td>\n",
       "      <td>False</td>\n",
       "      <td>False</td>\n",
       "      <td>False</td>\n",
       "      <td>Day</td>\n",
       "      <td>Day</td>\n",
       "      <td>Day</td>\n",
       "      <td>Day</td>\n",
       "    </tr>\n",
       "    <tr>\n",
       "      <th>99991</th>\n",
       "      <td>A-7402652</td>\n",
       "      <td>Source1</td>\n",
       "      <td>2</td>\n",
       "      <td>2019-09-29 15:52:00</td>\n",
       "      <td>2019-09-29 16:46:01</td>\n",
       "      <td>36.755104</td>\n",
       "      <td>-119.758157</td>\n",
       "      <td>36.755104</td>\n",
       "      <td>-119.758157</td>\n",
       "      <td>0.000</td>\n",
       "      <td>...</td>\n",
       "      <td>False</td>\n",
       "      <td>False</td>\n",
       "      <td>False</td>\n",
       "      <td>False</td>\n",
       "      <td>False</td>\n",
       "      <td>False</td>\n",
       "      <td>Day</td>\n",
       "      <td>Day</td>\n",
       "      <td>Day</td>\n",
       "      <td>Day</td>\n",
       "    </tr>\n",
       "    <tr>\n",
       "      <th>99992</th>\n",
       "      <td>A-3423605</td>\n",
       "      <td>Source1</td>\n",
       "      <td>2</td>\n",
       "      <td>2016-05-31 21:50:26</td>\n",
       "      <td>2016-06-01 03:50:26</td>\n",
       "      <td>33.884260</td>\n",
       "      <td>-117.880370</td>\n",
       "      <td>33.888980</td>\n",
       "      <td>-117.878790</td>\n",
       "      <td>0.338</td>\n",
       "      <td>...</td>\n",
       "      <td>False</td>\n",
       "      <td>False</td>\n",
       "      <td>False</td>\n",
       "      <td>False</td>\n",
       "      <td>False</td>\n",
       "      <td>False</td>\n",
       "      <td>Night</td>\n",
       "      <td>Night</td>\n",
       "      <td>Night</td>\n",
       "      <td>Night</td>\n",
       "    </tr>\n",
       "    <tr>\n",
       "      <th>99997</th>\n",
       "      <td>A-497454</td>\n",
       "      <td>Source2</td>\n",
       "      <td>3</td>\n",
       "      <td>2017-07-28 05:48:07</td>\n",
       "      <td>2017-07-28 06:17:41</td>\n",
       "      <td>34.072277</td>\n",
       "      <td>-118.053642</td>\n",
       "      <td>NaN</td>\n",
       "      <td>NaN</td>\n",
       "      <td>0.000</td>\n",
       "      <td>...</td>\n",
       "      <td>False</td>\n",
       "      <td>False</td>\n",
       "      <td>False</td>\n",
       "      <td>False</td>\n",
       "      <td>False</td>\n",
       "      <td>False</td>\n",
       "      <td>Night</td>\n",
       "      <td>Day</td>\n",
       "      <td>Day</td>\n",
       "      <td>Day</td>\n",
       "    </tr>\n",
       "    <tr>\n",
       "      <th>99999</th>\n",
       "      <td>A-89684</td>\n",
       "      <td>Source2</td>\n",
       "      <td>2</td>\n",
       "      <td>2016-08-15 11:15:29</td>\n",
       "      <td>2016-08-15 11:45:29</td>\n",
       "      <td>34.024952</td>\n",
       "      <td>-118.381378</td>\n",
       "      <td>NaN</td>\n",
       "      <td>NaN</td>\n",
       "      <td>0.000</td>\n",
       "      <td>...</td>\n",
       "      <td>False</td>\n",
       "      <td>False</td>\n",
       "      <td>True</td>\n",
       "      <td>False</td>\n",
       "      <td>False</td>\n",
       "      <td>False</td>\n",
       "      <td>Day</td>\n",
       "      <td>Day</td>\n",
       "      <td>Day</td>\n",
       "      <td>Day</td>\n",
       "    </tr>\n",
       "  </tbody>\n",
       "</table>\n",
       "<p>22590 rows × 46 columns</p>\n",
       "</div>"
      ],
      "text/plain": [
       "              ID   Source  Severity                     Start_Time  \\\n",
       "1      A-7326903  Source1         2            2019-10-03 07:42:00   \n",
       "4      A-6189814  Source1         2  2021-03-12 05:54:00.000000000   \n",
       "5      A-2297914  Source2         2            2019-02-20 14:04:24   \n",
       "7      A-6609590  Source1         2            2020-12-07 20:12:30   \n",
       "13     A-6452577  Source1         2            2021-02-17 14:15:00   \n",
       "...          ...      ...       ...                            ...   \n",
       "99986  A-5400920  Source1         2  2022-04-26 09:51:00.000000000   \n",
       "99991  A-7402652  Source1         2            2019-09-29 15:52:00   \n",
       "99992  A-3423605  Source1         2            2016-05-31 21:50:26   \n",
       "99997   A-497454  Source2         3            2017-07-28 05:48:07   \n",
       "99999    A-89684  Source2         2            2016-08-15 11:15:29   \n",
       "\n",
       "                            End_Time  Start_Lat   Start_Lng    End_Lat  \\\n",
       "1                2019-10-03 08:53:59  35.446737 -120.638870  35.446737   \n",
       "4      2021-03-12 16:54:21.000000000  34.277612 -118.608624  34.277312   \n",
       "5                2019-02-20 14:34:16  38.363239 -122.741333        NaN   \n",
       "7                2020-12-08 03:55:30  34.127088 -118.474797  34.148444   \n",
       "13               2021-02-17 16:34:12  34.156673 -118.417126  34.156663   \n",
       "...                              ...        ...         ...        ...   \n",
       "99986  2022-04-26 11:55:59.000000000  33.685251 -117.896551  33.688031   \n",
       "99991            2019-09-29 16:46:01  36.755104 -119.758157  36.755104   \n",
       "99992            2016-06-01 03:50:26  33.884260 -117.880370  33.888980   \n",
       "99997            2017-07-28 06:17:41  34.072277 -118.053642        NaN   \n",
       "99999            2016-08-15 11:45:29  34.024952 -118.381378        NaN   \n",
       "\n",
       "          End_Lng  Distance(mi)  ... Roundabout Station   Stop  \\\n",
       "1     -120.638870         0.000  ...      False   False  False   \n",
       "4     -118.604924         0.212  ...      False   False  False   \n",
       "5             NaN         0.000  ...      False   False  False   \n",
       "7     -118.469301         1.509  ...      False   False  False   \n",
       "13    -118.413786         0.191  ...      False   False  False   \n",
       "...           ...           ...  ...        ...     ...    ...   \n",
       "99986 -117.901781         0.357  ...      False   False  False   \n",
       "99991 -119.758157         0.000  ...      False   False  False   \n",
       "99992 -117.878790         0.338  ...      False   False  False   \n",
       "99997         NaN         0.000  ...      False   False  False   \n",
       "99999         NaN         0.000  ...      False   False   True   \n",
       "\n",
       "      Traffic_Calming Traffic_Signal Turning_Loop Sunrise_Sunset  \\\n",
       "1               False          False        False            Day   \n",
       "4               False          False        False          Night   \n",
       "5               False          False        False            Day   \n",
       "7               False          False        False          Night   \n",
       "13              False          False        False            Day   \n",
       "...               ...            ...          ...            ...   \n",
       "99986           False          False        False            Day   \n",
       "99991           False          False        False            Day   \n",
       "99992           False          False        False          Night   \n",
       "99997           False          False        False          Night   \n",
       "99999           False          False        False            Day   \n",
       "\n",
       "      Civil_Twilight Nautical_Twilight Astronomical_Twilight  \n",
       "1                Day               Day                   Day  \n",
       "4                Day               Day                   Day  \n",
       "5                Day               Day                   Day  \n",
       "7              Night             Night                 Night  \n",
       "13               Day               Day                   Day  \n",
       "...              ...               ...                   ...  \n",
       "99986            Day               Day                   Day  \n",
       "99991            Day               Day                   Day  \n",
       "99992          Night             Night                 Night  \n",
       "99997            Day               Day                   Day  \n",
       "99999            Day               Day                   Day  \n",
       "\n",
       "[22590 rows x 46 columns]"
      ]
     },
     "execution_count": 12,
     "metadata": {},
     "output_type": "execute_result"
    }
   ],
   "source": [
    "df1"
   ]
  },
  {
   "cell_type": "code",
   "execution_count": 13,
   "metadata": {
    "execution": {
     "iopub.execute_input": "2022-06-04T21:49:40.414222Z",
     "iopub.status.busy": "2022-06-04T21:49:40.413088Z",
     "iopub.status.idle": "2022-06-04T21:49:40.419314Z",
     "shell.execute_reply": "2022-06-04T21:49:40.418309Z",
     "shell.execute_reply.started": "2022-06-04T21:49:40.414158Z"
    }
   },
   "outputs": [],
   "source": [
    "#df1['ID'].astype('int64')\n",
    "#df1['ID'] = df1['ID'].astype(int)"
   ]
  },
  {
   "cell_type": "code",
   "execution_count": 14,
   "metadata": {
    "execution": {
     "iopub.execute_input": "2022-06-04T21:20:36.445377Z",
     "iopub.status.busy": "2022-06-04T21:20:36.444946Z",
     "iopub.status.idle": "2022-06-04T21:20:36.4755Z",
     "shell.execute_reply": "2022-06-04T21:20:36.4732Z",
     "shell.execute_reply.started": "2022-06-04T21:20:36.445345Z"
    }
   },
   "outputs": [
    {
     "data": {
      "text/html": [
       "<div>\n",
       "<style scoped>\n",
       "    .dataframe tbody tr th:only-of-type {\n",
       "        vertical-align: middle;\n",
       "    }\n",
       "\n",
       "    .dataframe tbody tr th {\n",
       "        vertical-align: top;\n",
       "    }\n",
       "\n",
       "    .dataframe thead th {\n",
       "        text-align: right;\n",
       "    }\n",
       "</style>\n",
       "<table border=\"1\" class=\"dataframe\">\n",
       "  <thead>\n",
       "    <tr style=\"text-align: right;\">\n",
       "      <th></th>\n",
       "      <th>ID</th>\n",
       "      <th>Source</th>\n",
       "      <th>Severity</th>\n",
       "      <th>Start_Time</th>\n",
       "      <th>End_Time</th>\n",
       "      <th>Start_Lat</th>\n",
       "      <th>Start_Lng</th>\n",
       "      <th>End_Lat</th>\n",
       "      <th>End_Lng</th>\n",
       "      <th>Distance(mi)</th>\n",
       "      <th>...</th>\n",
       "      <th>Roundabout</th>\n",
       "      <th>Station</th>\n",
       "      <th>Stop</th>\n",
       "      <th>Traffic_Calming</th>\n",
       "      <th>Traffic_Signal</th>\n",
       "      <th>Turning_Loop</th>\n",
       "      <th>Sunrise_Sunset</th>\n",
       "      <th>Civil_Twilight</th>\n",
       "      <th>Nautical_Twilight</th>\n",
       "      <th>Astronomical_Twilight</th>\n",
       "    </tr>\n",
       "  </thead>\n",
       "  <tbody>\n",
       "    <tr>\n",
       "      <th>1</th>\n",
       "      <td>A-7326903</td>\n",
       "      <td>Source1</td>\n",
       "      <td>2</td>\n",
       "      <td>2019-10-03 07:42:00</td>\n",
       "      <td>2019-10-03 08:53:59</td>\n",
       "      <td>35.446737</td>\n",
       "      <td>-120.638870</td>\n",
       "      <td>35.446737</td>\n",
       "      <td>-120.638870</td>\n",
       "      <td>0.000</td>\n",
       "      <td>...</td>\n",
       "      <td>False</td>\n",
       "      <td>False</td>\n",
       "      <td>False</td>\n",
       "      <td>False</td>\n",
       "      <td>False</td>\n",
       "      <td>False</td>\n",
       "      <td>Day</td>\n",
       "      <td>Day</td>\n",
       "      <td>Day</td>\n",
       "      <td>Day</td>\n",
       "    </tr>\n",
       "    <tr>\n",
       "      <th>4</th>\n",
       "      <td>A-6189814</td>\n",
       "      <td>Source1</td>\n",
       "      <td>2</td>\n",
       "      <td>2021-03-12 05:54:00.000000000</td>\n",
       "      <td>2021-03-12 16:54:21.000000000</td>\n",
       "      <td>34.277612</td>\n",
       "      <td>-118.608624</td>\n",
       "      <td>34.277312</td>\n",
       "      <td>-118.604924</td>\n",
       "      <td>0.212</td>\n",
       "      <td>...</td>\n",
       "      <td>False</td>\n",
       "      <td>False</td>\n",
       "      <td>False</td>\n",
       "      <td>False</td>\n",
       "      <td>False</td>\n",
       "      <td>False</td>\n",
       "      <td>Night</td>\n",
       "      <td>Day</td>\n",
       "      <td>Day</td>\n",
       "      <td>Day</td>\n",
       "    </tr>\n",
       "    <tr>\n",
       "      <th>5</th>\n",
       "      <td>A-2297914</td>\n",
       "      <td>Source2</td>\n",
       "      <td>2</td>\n",
       "      <td>2019-02-20 14:04:24</td>\n",
       "      <td>2019-02-20 14:34:16</td>\n",
       "      <td>38.363239</td>\n",
       "      <td>-122.741333</td>\n",
       "      <td>NaN</td>\n",
       "      <td>NaN</td>\n",
       "      <td>0.000</td>\n",
       "      <td>...</td>\n",
       "      <td>False</td>\n",
       "      <td>False</td>\n",
       "      <td>False</td>\n",
       "      <td>False</td>\n",
       "      <td>False</td>\n",
       "      <td>False</td>\n",
       "      <td>Day</td>\n",
       "      <td>Day</td>\n",
       "      <td>Day</td>\n",
       "      <td>Day</td>\n",
       "    </tr>\n",
       "    <tr>\n",
       "      <th>7</th>\n",
       "      <td>A-6609590</td>\n",
       "      <td>Source1</td>\n",
       "      <td>2</td>\n",
       "      <td>2020-12-07 20:12:30</td>\n",
       "      <td>2020-12-08 03:55:30</td>\n",
       "      <td>34.127088</td>\n",
       "      <td>-118.474797</td>\n",
       "      <td>34.148444</td>\n",
       "      <td>-118.469301</td>\n",
       "      <td>1.509</td>\n",
       "      <td>...</td>\n",
       "      <td>False</td>\n",
       "      <td>False</td>\n",
       "      <td>False</td>\n",
       "      <td>False</td>\n",
       "      <td>False</td>\n",
       "      <td>False</td>\n",
       "      <td>Night</td>\n",
       "      <td>Night</td>\n",
       "      <td>Night</td>\n",
       "      <td>Night</td>\n",
       "    </tr>\n",
       "    <tr>\n",
       "      <th>13</th>\n",
       "      <td>A-6452577</td>\n",
       "      <td>Source1</td>\n",
       "      <td>2</td>\n",
       "      <td>2021-02-17 14:15:00</td>\n",
       "      <td>2021-02-17 16:34:12</td>\n",
       "      <td>34.156673</td>\n",
       "      <td>-118.417126</td>\n",
       "      <td>34.156663</td>\n",
       "      <td>-118.413786</td>\n",
       "      <td>0.191</td>\n",
       "      <td>...</td>\n",
       "      <td>False</td>\n",
       "      <td>False</td>\n",
       "      <td>False</td>\n",
       "      <td>False</td>\n",
       "      <td>False</td>\n",
       "      <td>False</td>\n",
       "      <td>Day</td>\n",
       "      <td>Day</td>\n",
       "      <td>Day</td>\n",
       "      <td>Day</td>\n",
       "    </tr>\n",
       "  </tbody>\n",
       "</table>\n",
       "<p>5 rows × 46 columns</p>\n",
       "</div>"
      ],
      "text/plain": [
       "           ID   Source  Severity                     Start_Time  \\\n",
       "1   A-7326903  Source1         2            2019-10-03 07:42:00   \n",
       "4   A-6189814  Source1         2  2021-03-12 05:54:00.000000000   \n",
       "5   A-2297914  Source2         2            2019-02-20 14:04:24   \n",
       "7   A-6609590  Source1         2            2020-12-07 20:12:30   \n",
       "13  A-6452577  Source1         2            2021-02-17 14:15:00   \n",
       "\n",
       "                         End_Time  Start_Lat   Start_Lng    End_Lat  \\\n",
       "1             2019-10-03 08:53:59  35.446737 -120.638870  35.446737   \n",
       "4   2021-03-12 16:54:21.000000000  34.277612 -118.608624  34.277312   \n",
       "5             2019-02-20 14:34:16  38.363239 -122.741333        NaN   \n",
       "7             2020-12-08 03:55:30  34.127088 -118.474797  34.148444   \n",
       "13            2021-02-17 16:34:12  34.156673 -118.417126  34.156663   \n",
       "\n",
       "       End_Lng  Distance(mi)  ... Roundabout Station   Stop Traffic_Calming  \\\n",
       "1  -120.638870         0.000  ...      False   False  False           False   \n",
       "4  -118.604924         0.212  ...      False   False  False           False   \n",
       "5          NaN         0.000  ...      False   False  False           False   \n",
       "7  -118.469301         1.509  ...      False   False  False           False   \n",
       "13 -118.413786         0.191  ...      False   False  False           False   \n",
       "\n",
       "   Traffic_Signal Turning_Loop Sunrise_Sunset Civil_Twilight  \\\n",
       "1           False        False            Day            Day   \n",
       "4           False        False          Night            Day   \n",
       "5           False        False            Day            Day   \n",
       "7           False        False          Night          Night   \n",
       "13          False        False            Day            Day   \n",
       "\n",
       "   Nautical_Twilight Astronomical_Twilight  \n",
       "1                Day                   Day  \n",
       "4                Day                   Day  \n",
       "5                Day                   Day  \n",
       "7              Night                 Night  \n",
       "13               Day                   Day  \n",
       "\n",
       "[5 rows x 46 columns]"
      ]
     },
     "execution_count": 14,
     "metadata": {},
     "output_type": "execute_result"
    }
   ],
   "source": [
    "df1.head()"
   ]
  },
  {
   "cell_type": "code",
   "execution_count": 15,
   "metadata": {
    "execution": {
     "iopub.execute_input": "2022-06-04T21:20:36.478327Z",
     "iopub.status.busy": "2022-06-04T21:20:36.477893Z",
     "iopub.status.idle": "2022-06-04T21:20:36.488671Z",
     "shell.execute_reply": "2022-06-04T21:20:36.487497Z",
     "shell.execute_reply.started": "2022-06-04T21:20:36.4783Z"
    }
   },
   "outputs": [
    {
     "data": {
      "text/plain": [
       "(22590, 46)"
      ]
     },
     "execution_count": 15,
     "metadata": {},
     "output_type": "execute_result"
    }
   ],
   "source": [
    "df1.shape"
   ]
  },
  {
   "cell_type": "code",
   "execution_count": 16,
   "metadata": {
    "execution": {
     "iopub.execute_input": "2022-06-04T21:20:36.493403Z",
     "iopub.status.busy": "2022-06-04T21:20:36.492975Z",
     "iopub.status.idle": "2022-06-04T21:20:36.509251Z",
     "shell.execute_reply": "2022-06-04T21:20:36.508192Z",
     "shell.execute_reply.started": "2022-06-04T21:20:36.493376Z"
    }
   },
   "outputs": [
    {
     "data": {
      "text/plain": [
       "Index(['ID', 'Source', 'Severity', 'Start_Time', 'End_Time', 'Start_Lat',\n",
       "       'Start_Lng', 'End_Lat', 'End_Lng', 'Distance(mi)', 'Description',\n",
       "       'Street', 'City', 'County', 'State', 'Zipcode', 'Country', 'Timezone',\n",
       "       'Airport_Code', 'Weather_Timestamp', 'Temperature(F)', 'Wind_Chill(F)',\n",
       "       'Humidity(%)', 'Pressure(in)', 'Visibility(mi)', 'Wind_Direction',\n",
       "       'Wind_Speed(mph)', 'Precipitation(in)', 'Weather_Condition', 'Amenity',\n",
       "       'Bump', 'Crossing', 'Give_Way', 'Junction', 'No_Exit', 'Railway',\n",
       "       'Roundabout', 'Station', 'Stop', 'Traffic_Calming', 'Traffic_Signal',\n",
       "       'Turning_Loop', 'Sunrise_Sunset', 'Civil_Twilight', 'Nautical_Twilight',\n",
       "       'Astronomical_Twilight'],\n",
       "      dtype='object')"
      ]
     },
     "execution_count": 16,
     "metadata": {},
     "output_type": "execute_result"
    }
   ],
   "source": [
    "df1.columns"
   ]
  },
  {
   "cell_type": "code",
   "execution_count": 17,
   "metadata": {
    "execution": {
     "iopub.execute_input": "2022-06-04T21:20:36.511291Z",
     "iopub.status.busy": "2022-06-04T21:20:36.510915Z",
     "iopub.status.idle": "2022-06-04T21:20:41.366362Z",
     "shell.execute_reply": "2022-06-04T21:20:41.365645Z",
     "shell.execute_reply.started": "2022-06-04T21:20:36.511251Z"
    }
   },
   "outputs": [
    {
     "data": {
      "text/plain": [
       "0"
      ]
     },
     "execution_count": 17,
     "metadata": {},
     "output_type": "execute_result"
    }
   ],
   "source": [
    "df1.duplicated().sum()"
   ]
  },
  {
   "cell_type": "code",
   "execution_count": 18,
   "metadata": {
    "execution": {
     "iopub.execute_input": "2022-06-04T21:20:41.367962Z",
     "iopub.status.busy": "2022-06-04T21:20:41.367358Z",
     "iopub.status.idle": "2022-06-04T21:20:41.625325Z",
     "shell.execute_reply": "2022-06-04T21:20:41.624592Z",
     "shell.execute_reply.started": "2022-06-04T21:20:41.367931Z"
    }
   },
   "outputs": [],
   "source": [
    "d1f=df1.dropna(subset=['Precipitation(in)'])    "
   ]
  },
  {
   "cell_type": "code",
   "execution_count": 19,
   "metadata": {
    "execution": {
     "iopub.execute_input": "2022-06-04T21:20:41.626801Z",
     "iopub.status.busy": "2022-06-04T21:20:41.626432Z",
     "iopub.status.idle": "2022-06-04T21:20:41.63349Z",
     "shell.execute_reply": "2022-06-04T21:20:41.632274Z",
     "shell.execute_reply.started": "2022-06-04T21:20:41.626772Z"
    }
   },
   "outputs": [
    {
     "data": {
      "text/plain": [
       "(22590, 46)"
      ]
     },
     "execution_count": 19,
     "metadata": {},
     "output_type": "execute_result"
    }
   ],
   "source": [
    "df1.shape"
   ]
  },
  {
   "cell_type": "code",
   "execution_count": 20,
   "metadata": {
    "execution": {
     "iopub.execute_input": "2022-06-04T21:20:41.636221Z",
     "iopub.status.busy": "2022-06-04T21:20:41.635701Z",
     "iopub.status.idle": "2022-06-04T21:20:42.003347Z",
     "shell.execute_reply": "2022-06-04T21:20:42.001797Z",
     "shell.execute_reply.started": "2022-06-04T21:20:41.636177Z"
    }
   },
   "outputs": [],
   "source": [
    "df1=df1.dropna(subset=['Temperature(F)','Wind_Chill(F)','Humidity(%)','Pressure(in)','Visibility(mi)','Wind_Direction', 'Wind_Speed(mph)',\n",
    "                      'Weather_Condition'])"
   ]
  },
  {
   "cell_type": "code",
   "execution_count": 21,
   "metadata": {
    "execution": {
     "iopub.execute_input": "2022-06-04T21:20:42.005856Z",
     "iopub.status.busy": "2022-06-04T21:20:42.005438Z",
     "iopub.status.idle": "2022-06-04T21:20:42.011809Z",
     "shell.execute_reply": "2022-06-04T21:20:42.010776Z",
     "shell.execute_reply.started": "2022-06-04T21:20:42.005824Z"
    }
   },
   "outputs": [
    {
     "data": {
      "text/plain": [
       "(15860, 46)"
      ]
     },
     "execution_count": 21,
     "metadata": {},
     "output_type": "execute_result"
    }
   ],
   "source": [
    "df1.shape"
   ]
  },
  {
   "cell_type": "code",
   "execution_count": 22,
   "metadata": {
    "execution": {
     "iopub.execute_input": "2022-06-04T21:20:42.013309Z",
     "iopub.status.busy": "2022-06-04T21:20:42.012989Z",
     "iopub.status.idle": "2022-06-04T21:20:43.591965Z",
     "shell.execute_reply": "2022-06-04T21:20:43.591032Z",
     "shell.execute_reply.started": "2022-06-04T21:20:42.013277Z"
    }
   },
   "outputs": [
    {
     "data": {
      "text/plain": [
       "ID                        0.000000\n",
       "Source                    0.000000\n",
       "Severity                  0.000000\n",
       "Start_Time                0.000000\n",
       "End_Time                  0.000000\n",
       "Start_Lat                 0.000000\n",
       "Start_Lng                 0.000000\n",
       "End_Lat                  22.156368\n",
       "End_Lng                  22.156368\n",
       "Distance(mi)              0.000000\n",
       "Description               0.000000\n",
       "Street                    0.195460\n",
       "City                      0.000000\n",
       "County                    0.000000\n",
       "State                     0.000000\n",
       "Zipcode                   0.000000\n",
       "Country                   0.000000\n",
       "Timezone                  0.000000\n",
       "Airport_Code              0.000000\n",
       "Weather_Timestamp         0.000000\n",
       "Temperature(F)            0.000000\n",
       "Wind_Chill(F)             0.000000\n",
       "Humidity(%)               0.000000\n",
       "Pressure(in)              0.000000\n",
       "Visibility(mi)            0.000000\n",
       "Wind_Direction            0.000000\n",
       "Wind_Speed(mph)           0.000000\n",
       "Precipitation(in)         8.121059\n",
       "Weather_Condition         0.000000\n",
       "Amenity                   0.000000\n",
       "Bump                      0.000000\n",
       "Crossing                  0.000000\n",
       "Give_Way                  0.000000\n",
       "Junction                  0.000000\n",
       "No_Exit                   0.000000\n",
       "Railway                   0.000000\n",
       "Roundabout                0.000000\n",
       "Station                   0.000000\n",
       "Stop                      0.000000\n",
       "Traffic_Calming           0.000000\n",
       "Traffic_Signal            0.000000\n",
       "Turning_Loop              0.000000\n",
       "Sunrise_Sunset            0.081967\n",
       "Civil_Twilight            0.081967\n",
       "Nautical_Twilight         0.081967\n",
       "Astronomical_Twilight     0.081967\n",
       "dtype: float64"
      ]
     },
     "execution_count": 22,
     "metadata": {},
     "output_type": "execute_result"
    }
   ],
   "source": [
    "df1.isna().sum()/len(df1)*100"
   ]
  },
  {
   "cell_type": "code",
   "execution_count": 23,
   "metadata": {
    "execution": {
     "iopub.execute_input": "2022-06-04T21:20:43.593882Z",
     "iopub.status.busy": "2022-06-04T21:20:43.593011Z",
     "iopub.status.idle": "2022-06-04T21:20:44.102562Z",
     "shell.execute_reply": "2022-06-04T21:20:44.101078Z",
     "shell.execute_reply.started": "2022-06-04T21:20:43.59382Z"
    }
   },
   "outputs": [],
   "source": [
    "df1=df1.dropna(subset=['City','Sunrise_Sunset',\n",
    "       'Civil_Twilight', 'Nautical_Twilight', 'Astronomical_Twilight'])"
   ]
  },
  {
   "cell_type": "code",
   "execution_count": 24,
   "metadata": {
    "execution": {
     "iopub.execute_input": "2022-06-04T21:20:44.103931Z",
     "iopub.status.busy": "2022-06-04T21:20:44.103663Z",
     "iopub.status.idle": "2022-06-04T21:20:44.805195Z",
     "shell.execute_reply": "2022-06-04T21:20:44.803998Z",
     "shell.execute_reply.started": "2022-06-04T21:20:44.103905Z"
    }
   },
   "outputs": [
    {
     "data": {
      "text/plain": [
       "ID                        0.000000\n",
       "Source                    0.000000\n",
       "Severity                  0.000000\n",
       "Start_Time                0.000000\n",
       "End_Time                  0.000000\n",
       "Start_Lat                 0.000000\n",
       "Start_Lng                 0.000000\n",
       "End_Lat                  22.168234\n",
       "End_Lng                  22.168234\n",
       "Distance(mi)              0.000000\n",
       "Description               0.000000\n",
       "Street                    0.195621\n",
       "City                      0.000000\n",
       "County                    0.000000\n",
       "State                     0.000000\n",
       "Zipcode                   0.000000\n",
       "Country                   0.000000\n",
       "Timezone                  0.000000\n",
       "Airport_Code              0.000000\n",
       "Weather_Timestamp         0.000000\n",
       "Temperature(F)            0.000000\n",
       "Wind_Chill(F)             0.000000\n",
       "Humidity(%)               0.000000\n",
       "Pressure(in)              0.000000\n",
       "Visibility(mi)            0.000000\n",
       "Wind_Direction            0.000000\n",
       "Wind_Speed(mph)           0.000000\n",
       "Precipitation(in)         8.127721\n",
       "Weather_Condition         0.000000\n",
       "Amenity                   0.000000\n",
       "Bump                      0.000000\n",
       "Crossing                  0.000000\n",
       "Give_Way                  0.000000\n",
       "Junction                  0.000000\n",
       "No_Exit                   0.000000\n",
       "Railway                   0.000000\n",
       "Roundabout                0.000000\n",
       "Station                   0.000000\n",
       "Stop                      0.000000\n",
       "Traffic_Calming           0.000000\n",
       "Traffic_Signal            0.000000\n",
       "Turning_Loop              0.000000\n",
       "Sunrise_Sunset            0.000000\n",
       "Civil_Twilight            0.000000\n",
       "Nautical_Twilight         0.000000\n",
       "Astronomical_Twilight     0.000000\n",
       "dtype: float64"
      ]
     },
     "execution_count": 24,
     "metadata": {},
     "output_type": "execute_result"
    }
   ],
   "source": [
    "df1.isna().sum()/len(df1)*100"
   ]
  },
  {
   "cell_type": "code",
   "execution_count": 25,
   "metadata": {
    "execution": {
     "iopub.execute_input": "2022-06-04T21:20:44.808261Z",
     "iopub.status.busy": "2022-06-04T21:20:44.807686Z",
     "iopub.status.idle": "2022-06-04T21:20:44.917792Z",
     "shell.execute_reply": "2022-06-04T21:20:44.91669Z",
     "shell.execute_reply.started": "2022-06-04T21:20:44.808218Z"
    }
   },
   "outputs": [
    {
     "data": {
      "text/plain": [
       "Fair                       9808\n",
       "Cloudy                     1803\n",
       "Mostly Cloudy              1212\n",
       "Partly Cloudy              1013\n",
       "Light Rain                  487\n",
       "Haze                        410\n",
       "Fog                         301\n",
       "Rain                        173\n",
       "Fair / Windy                159\n",
       "Smoke                        92\n",
       "Clear                        82\n",
       "Heavy Rain                   68\n",
       "Light Snow                   31\n",
       "Cloudy / Windy               26\n",
       "Overcast                     23\n",
       "Mostly Cloudy / Windy        18\n",
       "Partly Cloudy / Windy        18\n",
       "Light Rain / Windy           16\n",
       "Snow                         11\n",
       "Drizzle                      11\n",
       "Light Drizzle                10\n",
       "Rain / Windy                 10\n",
       "Heavy Snow                    8\n",
       "Shallow Fog                   8\n",
       "Mist                          6\n",
       "Heavy Rain / Windy            6\n",
       "Scattered Clouds              5\n",
       "Patches of Fog                4\n",
       "Haze / Windy                  4\n",
       "Showers in the Vicinity       4\n",
       "Fog / Windy                   3\n",
       "Wintry Mix                    3\n",
       "Thunder in the Vicinity       3\n",
       "N/A Precipitation             2\n",
       "Thunder                       2\n",
       "Blowing Dust                  1\n",
       "Light Rain Shower             1\n",
       "T-Storm                       1\n",
       "Heavy Drizzle                 1\n",
       "Light Snow / Windy            1\n",
       "Thunder / Windy               1\n",
       "Snow and Thunder              1\n",
       "Name: Weather_Condition, dtype: int64"
      ]
     },
     "execution_count": 25,
     "metadata": {},
     "output_type": "execute_result"
    }
   ],
   "source": [
    "df1['Weather_Condition'].value_counts()"
   ]
  },
  {
   "cell_type": "code",
   "execution_count": 26,
   "metadata": {
    "execution": {
     "iopub.execute_input": "2022-06-04T21:20:44.92013Z",
     "iopub.status.busy": "2022-06-04T21:20:44.919672Z",
     "iopub.status.idle": "2022-06-04T21:20:44.983898Z",
     "shell.execute_reply": "2022-06-04T21:20:44.982936Z",
     "shell.execute_reply.started": "2022-06-04T21:20:44.92006Z"
    }
   },
   "outputs": [],
   "source": [
    "#df1.Side.unique()"
   ]
  },
  {
   "cell_type": "code",
   "execution_count": 27,
   "metadata": {
    "execution": {
     "iopub.execute_input": "2022-06-04T21:20:44.985341Z",
     "iopub.status.busy": "2022-06-04T21:20:44.985013Z",
     "iopub.status.idle": "2022-06-04T21:20:45.373308Z",
     "shell.execute_reply": "2022-06-04T21:20:45.371334Z",
     "shell.execute_reply.started": "2022-06-04T21:20:44.985315Z"
    }
   },
   "outputs": [],
   "source": [
    "df_cat=df1.select_dtypes('object')\n",
    "df_num=df1.select_dtypes(np.number)\n",
    "df_cat=df_cat.drop('ID',axis=1)"
   ]
  },
  {
   "cell_type": "markdown",
   "metadata": {},
   "source": []
  },
  {
   "cell_type": "code",
   "execution_count": 28,
   "metadata": {
    "execution": {
     "iopub.execute_input": "2022-06-04T21:20:45.375295Z",
     "iopub.status.busy": "2022-06-04T21:20:45.374947Z",
     "iopub.status.idle": "2022-06-04T21:20:47.492339Z",
     "shell.execute_reply": "2022-06-04T21:20:47.491314Z",
     "shell.execute_reply.started": "2022-06-04T21:20:45.375268Z"
    }
   },
   "outputs": [
    {
     "data": {
      "text/html": [
       "<div>\n",
       "<style scoped>\n",
       "    .dataframe tbody tr th:only-of-type {\n",
       "        vertical-align: middle;\n",
       "    }\n",
       "\n",
       "    .dataframe tbody tr th {\n",
       "        vertical-align: top;\n",
       "    }\n",
       "\n",
       "    .dataframe thead th {\n",
       "        text-align: right;\n",
       "    }\n",
       "</style>\n",
       "<table border=\"1\" class=\"dataframe\">\n",
       "  <thead>\n",
       "    <tr style=\"text-align: right;\">\n",
       "      <th></th>\n",
       "      <th>feature</th>\n",
       "      <th>count_of_unique_values</th>\n",
       "    </tr>\n",
       "  </thead>\n",
       "  <tbody>\n",
       "    <tr>\n",
       "      <th>0</th>\n",
       "      <td>ID</td>\n",
       "      <td>15847</td>\n",
       "    </tr>\n",
       "    <tr>\n",
       "      <th>1</th>\n",
       "      <td>Source</td>\n",
       "      <td>3</td>\n",
       "    </tr>\n",
       "    <tr>\n",
       "      <th>2</th>\n",
       "      <td>Start_Time</td>\n",
       "      <td>15755</td>\n",
       "    </tr>\n",
       "    <tr>\n",
       "      <th>3</th>\n",
       "      <td>End_Time</td>\n",
       "      <td>15816</td>\n",
       "    </tr>\n",
       "    <tr>\n",
       "      <th>4</th>\n",
       "      <td>Description</td>\n",
       "      <td>14420</td>\n",
       "    </tr>\n",
       "    <tr>\n",
       "      <th>5</th>\n",
       "      <td>Street</td>\n",
       "      <td>5114</td>\n",
       "    </tr>\n",
       "    <tr>\n",
       "      <th>6</th>\n",
       "      <td>City</td>\n",
       "      <td>847</td>\n",
       "    </tr>\n",
       "    <tr>\n",
       "      <th>7</th>\n",
       "      <td>County</td>\n",
       "      <td>58</td>\n",
       "    </tr>\n",
       "    <tr>\n",
       "      <th>8</th>\n",
       "      <td>State</td>\n",
       "      <td>1</td>\n",
       "    </tr>\n",
       "    <tr>\n",
       "      <th>9</th>\n",
       "      <td>Zipcode</td>\n",
       "      <td>4717</td>\n",
       "    </tr>\n",
       "    <tr>\n",
       "      <th>10</th>\n",
       "      <td>Country</td>\n",
       "      <td>1</td>\n",
       "    </tr>\n",
       "    <tr>\n",
       "      <th>11</th>\n",
       "      <td>Timezone</td>\n",
       "      <td>2</td>\n",
       "    </tr>\n",
       "    <tr>\n",
       "      <th>12</th>\n",
       "      <td>Airport_Code</td>\n",
       "      <td>130</td>\n",
       "    </tr>\n",
       "    <tr>\n",
       "      <th>13</th>\n",
       "      <td>Weather_Timestamp</td>\n",
       "      <td>14441</td>\n",
       "    </tr>\n",
       "    <tr>\n",
       "      <th>14</th>\n",
       "      <td>Wind_Direction</td>\n",
       "      <td>23</td>\n",
       "    </tr>\n",
       "    <tr>\n",
       "      <th>15</th>\n",
       "      <td>Weather_Condition</td>\n",
       "      <td>42</td>\n",
       "    </tr>\n",
       "    <tr>\n",
       "      <th>16</th>\n",
       "      <td>Sunrise_Sunset</td>\n",
       "      <td>2</td>\n",
       "    </tr>\n",
       "    <tr>\n",
       "      <th>17</th>\n",
       "      <td>Civil_Twilight</td>\n",
       "      <td>2</td>\n",
       "    </tr>\n",
       "    <tr>\n",
       "      <th>18</th>\n",
       "      <td>Nautical_Twilight</td>\n",
       "      <td>2</td>\n",
       "    </tr>\n",
       "    <tr>\n",
       "      <th>19</th>\n",
       "      <td>Astronomical_Twilight</td>\n",
       "      <td>2</td>\n",
       "    </tr>\n",
       "  </tbody>\n",
       "</table>\n",
       "</div>"
      ],
      "text/plain": [
       "                  feature  count_of_unique_values\n",
       "0                      ID                   15847\n",
       "1                  Source                       3\n",
       "2              Start_Time                   15755\n",
       "3                End_Time                   15816\n",
       "4             Description                   14420\n",
       "5                  Street                    5114\n",
       "6                    City                     847\n",
       "7                  County                      58\n",
       "8                   State                       1\n",
       "9                 Zipcode                    4717\n",
       "10                Country                       1\n",
       "11               Timezone                       2\n",
       "12           Airport_Code                     130\n",
       "13      Weather_Timestamp                   14441\n",
       "14         Wind_Direction                      23\n",
       "15      Weather_Condition                      42\n",
       "16         Sunrise_Sunset                       2\n",
       "17         Civil_Twilight                       2\n",
       "18      Nautical_Twilight                       2\n",
       "19  Astronomical_Twilight                       2"
      ]
     },
     "execution_count": 28,
     "metadata": {},
     "output_type": "execute_result"
    }
   ],
   "source": [
    "df_cat=df1.select_dtypes('object')\n",
    "col_name=[]\n",
    "length=[]\n",
    "\n",
    "for i in df_cat.columns:\n",
    "    col_name.append(i)\n",
    "    length.append(len(df_cat[i].unique()))\n",
    "df_2=pd.DataFrame(zip(col_name,length),columns=['feature','count_of_unique_values'])\n",
    "df_2"
   ]
  },
  {
   "cell_type": "markdown",
   "metadata": {
    "execution": {
     "iopub.execute_input": "2022-06-04T18:43:34.166032Z",
     "iopub.status.busy": "2022-06-04T18:43:34.165636Z",
     "iopub.status.idle": "2022-06-04T18:43:34.3677Z",
     "shell.execute_reply": "2022-06-04T18:43:34.366283Z",
     "shell.execute_reply.started": "2022-06-04T18:43:34.166001Z"
    }
   },
   "source": [
    "num_col=df.select_dtypes('number')\n",
    "cat_col=df.select_dtypes('object')\n",
    "bool_col=df.select_dtypes('bool')\n",
    "float_col=df.select_dtypes('float64')\n",
    "int_col=df.select_dtypes('int64')\n"
   ]
  },
  {
   "cell_type": "code",
   "execution_count": 29,
   "metadata": {
    "execution": {
     "iopub.execute_input": "2022-06-04T21:20:47.494154Z",
     "iopub.status.busy": "2022-06-04T21:20:47.49344Z",
     "iopub.status.idle": "2022-06-04T21:20:47.711132Z",
     "shell.execute_reply": "2022-06-04T21:20:47.710432Z",
     "shell.execute_reply.started": "2022-06-04T21:20:47.494089Z"
    }
   },
   "outputs": [],
   "source": [
    "df1.drop(['Description','Zipcode','Weather_Timestamp'],axis=1,inplace=True)"
   ]
  },
  {
   "cell_type": "code",
   "execution_count": 30,
   "metadata": {
    "execution": {
     "iopub.execute_input": "2022-06-04T21:20:47.712834Z",
     "iopub.status.busy": "2022-06-04T21:20:47.712164Z",
     "iopub.status.idle": "2022-06-04T21:20:47.719164Z",
     "shell.execute_reply": "2022-06-04T21:20:47.717292Z",
     "shell.execute_reply.started": "2022-06-04T21:20:47.712809Z"
    }
   },
   "outputs": [],
   "source": [
    "del df1['Airport_Code']"
   ]
  },
  {
   "cell_type": "code",
   "execution_count": 31,
   "metadata": {
    "execution": {
     "iopub.execute_input": "2022-06-04T21:20:49.592178Z",
     "iopub.status.busy": "2022-06-04T21:20:49.591795Z",
     "iopub.status.idle": "2022-06-04T21:20:49.59874Z",
     "shell.execute_reply": "2022-06-04T21:20:49.59749Z",
     "shell.execute_reply.started": "2022-06-04T21:20:49.592153Z"
    }
   },
   "outputs": [
    {
     "data": {
      "text/plain": [
       "Index(['Severity', 'Start_Lat', 'Start_Lng', 'End_Lat', 'End_Lng',\n",
       "       'Distance(mi)', 'Temperature(F)', 'Wind_Chill(F)', 'Humidity(%)',\n",
       "       'Pressure(in)', 'Visibility(mi)', 'Wind_Speed(mph)',\n",
       "       'Precipitation(in)'],\n",
       "      dtype='object')"
      ]
     },
     "execution_count": 31,
     "metadata": {},
     "output_type": "execute_result"
    }
   ],
   "source": [
    "df_num.columns"
   ]
  },
  {
   "cell_type": "code",
   "execution_count": 32,
   "metadata": {
    "execution": {
     "iopub.execute_input": "2022-06-04T21:20:49.601571Z",
     "iopub.status.busy": "2022-06-04T21:20:49.601026Z",
     "iopub.status.idle": "2022-06-04T21:20:49.61507Z",
     "shell.execute_reply": "2022-06-04T21:20:49.614095Z",
     "shell.execute_reply.started": "2022-06-04T21:20:49.601542Z"
    }
   },
   "outputs": [
    {
     "data": {
      "text/plain": [
       "13"
      ]
     },
     "execution_count": 32,
     "metadata": {},
     "output_type": "execute_result"
    }
   ],
   "source": [
    "len(df_num.columns)"
   ]
  },
  {
   "cell_type": "code",
   "execution_count": 33,
   "metadata": {
    "execution": {
     "iopub.execute_input": "2022-06-04T21:20:49.617127Z",
     "iopub.status.busy": "2022-06-04T21:20:49.616643Z",
     "iopub.status.idle": "2022-06-04T21:20:49.635562Z",
     "shell.execute_reply": "2022-06-04T21:20:49.634313Z",
     "shell.execute_reply.started": "2022-06-04T21:20:49.617057Z"
    }
   },
   "outputs": [
    {
     "data": {
      "text/plain": [
       "Index(['ID', 'Source', 'Start_Time', 'End_Time', 'Description', 'Street',\n",
       "       'City', 'County', 'State', 'Zipcode', 'Country', 'Timezone',\n",
       "       'Airport_Code', 'Weather_Timestamp', 'Wind_Direction',\n",
       "       'Weather_Condition', 'Sunrise_Sunset', 'Civil_Twilight',\n",
       "       'Nautical_Twilight', 'Astronomical_Twilight'],\n",
       "      dtype='object')"
      ]
     },
     "execution_count": 33,
     "metadata": {},
     "output_type": "execute_result"
    }
   ],
   "source": [
    "df_cat.columns"
   ]
  },
  {
   "cell_type": "code",
   "execution_count": 34,
   "metadata": {
    "execution": {
     "iopub.execute_input": "2022-06-04T21:20:49.637297Z",
     "iopub.status.busy": "2022-06-04T21:20:49.63687Z",
     "iopub.status.idle": "2022-06-04T21:20:49.653667Z",
     "shell.execute_reply": "2022-06-04T21:20:49.65221Z",
     "shell.execute_reply.started": "2022-06-04T21:20:49.637257Z"
    }
   },
   "outputs": [],
   "source": [
    "#bool_col.columns"
   ]
  },
  {
   "cell_type": "code",
   "execution_count": 35,
   "metadata": {
    "execution": {
     "iopub.execute_input": "2022-06-04T21:20:49.656647Z",
     "iopub.status.busy": "2022-06-04T21:20:49.656225Z",
     "iopub.status.idle": "2022-06-04T21:20:49.669929Z",
     "shell.execute_reply": "2022-06-04T21:20:49.668802Z",
     "shell.execute_reply.started": "2022-06-04T21:20:49.656614Z"
    }
   },
   "outputs": [],
   "source": [
    "#int_col.columns"
   ]
  },
  {
   "cell_type": "code",
   "execution_count": 36,
   "metadata": {
    "execution": {
     "iopub.execute_input": "2022-06-04T21:20:49.672282Z",
     "iopub.status.busy": "2022-06-04T21:20:49.671737Z",
     "iopub.status.idle": "2022-06-04T21:20:49.682799Z",
     "shell.execute_reply": "2022-06-04T21:20:49.682062Z",
     "shell.execute_reply.started": "2022-06-04T21:20:49.672247Z"
    }
   },
   "outputs": [],
   "source": [
    "#cat_col.head()"
   ]
  },
  {
   "cell_type": "code",
   "execution_count": 37,
   "metadata": {
    "execution": {
     "iopub.execute_input": "2022-06-04T21:23:46.897986Z",
     "iopub.status.busy": "2022-06-04T21:23:46.897566Z",
     "iopub.status.idle": "2022-06-04T21:23:46.949978Z",
     "shell.execute_reply": "2022-06-04T21:23:46.948572Z",
     "shell.execute_reply.started": "2022-06-04T21:23:46.897955Z"
    }
   },
   "outputs": [],
   "source": [
    "#len(df['City'].unique())"
   ]
  },
  {
   "cell_type": "code",
   "execution_count": 38,
   "metadata": {
    "execution": {
     "iopub.execute_input": "2022-06-04T21:23:47.39239Z",
     "iopub.status.busy": "2022-06-04T21:23:47.391263Z",
     "iopub.status.idle": "2022-06-04T21:23:47.396631Z",
     "shell.execute_reply": "2022-06-04T21:23:47.395571Z",
     "shell.execute_reply.started": "2022-06-04T21:23:47.392348Z"
    }
   },
   "outputs": [],
   "source": [
    "#cat_col"
   ]
  },
  {
   "cell_type": "code",
   "execution_count": 39,
   "metadata": {
    "execution": {
     "iopub.execute_input": "2022-06-04T21:23:47.956606Z",
     "iopub.status.busy": "2022-06-04T21:23:47.956251Z",
     "iopub.status.idle": "2022-06-04T21:23:47.962369Z",
     "shell.execute_reply": "2022-06-04T21:23:47.960421Z",
     "shell.execute_reply.started": "2022-06-04T21:23:47.95658Z"
    }
   },
   "outputs": [],
   "source": [
    "#num_col_1=df.select_dtypes('number')"
   ]
  },
  {
   "cell_type": "markdown",
   "metadata": {},
   "source": [
    "# Numeric Data"
   ]
  },
  {
   "cell_type": "code",
   "execution_count": 40,
   "metadata": {
    "execution": {
     "iopub.execute_input": "2022-06-04T21:23:49.877163Z",
     "iopub.status.busy": "2022-06-04T21:23:49.875872Z",
     "iopub.status.idle": "2022-06-04T21:23:50.096524Z",
     "shell.execute_reply": "2022-06-04T21:23:50.095217Z",
     "shell.execute_reply.started": "2022-06-04T21:23:49.87712Z"
    }
   },
   "outputs": [
    {
     "data": {
      "text/html": [
       "<div>\n",
       "<style scoped>\n",
       "    .dataframe tbody tr th:only-of-type {\n",
       "        vertical-align: middle;\n",
       "    }\n",
       "\n",
       "    .dataframe tbody tr th {\n",
       "        vertical-align: top;\n",
       "    }\n",
       "\n",
       "    .dataframe thead th {\n",
       "        text-align: right;\n",
       "    }\n",
       "</style>\n",
       "<table border=\"1\" class=\"dataframe\">\n",
       "  <thead>\n",
       "    <tr style=\"text-align: right;\">\n",
       "      <th></th>\n",
       "      <th>feature</th>\n",
       "      <th>count_of_unique_values</th>\n",
       "    </tr>\n",
       "  </thead>\n",
       "  <tbody>\n",
       "    <tr>\n",
       "      <th>0</th>\n",
       "      <td>Severity</td>\n",
       "      <td>4</td>\n",
       "    </tr>\n",
       "    <tr>\n",
       "      <th>1</th>\n",
       "      <td>Start_Lat</td>\n",
       "      <td>14815</td>\n",
       "    </tr>\n",
       "    <tr>\n",
       "      <th>2</th>\n",
       "      <td>Start_Lng</td>\n",
       "      <td>14849</td>\n",
       "    </tr>\n",
       "    <tr>\n",
       "      <th>3</th>\n",
       "      <td>End_Lat</td>\n",
       "      <td>11430</td>\n",
       "    </tr>\n",
       "    <tr>\n",
       "      <th>4</th>\n",
       "      <td>End_Lng</td>\n",
       "      <td>11456</td>\n",
       "    </tr>\n",
       "    <tr>\n",
       "      <th>5</th>\n",
       "      <td>Distance(mi)</td>\n",
       "      <td>2867</td>\n",
       "    </tr>\n",
       "    <tr>\n",
       "      <th>6</th>\n",
       "      <td>Temperature(F)</td>\n",
       "      <td>118</td>\n",
       "    </tr>\n",
       "    <tr>\n",
       "      <th>7</th>\n",
       "      <td>Wind_Chill(F)</td>\n",
       "      <td>174</td>\n",
       "    </tr>\n",
       "    <tr>\n",
       "      <th>8</th>\n",
       "      <td>Humidity(%)</td>\n",
       "      <td>98</td>\n",
       "    </tr>\n",
       "    <tr>\n",
       "      <th>9</th>\n",
       "      <td>Pressure(in)</td>\n",
       "      <td>550</td>\n",
       "    </tr>\n",
       "    <tr>\n",
       "      <th>10</th>\n",
       "      <td>Visibility(mi)</td>\n",
       "      <td>25</td>\n",
       "    </tr>\n",
       "    <tr>\n",
       "      <th>11</th>\n",
       "      <td>Wind_Speed(mph)</td>\n",
       "      <td>45</td>\n",
       "    </tr>\n",
       "    <tr>\n",
       "      <th>12</th>\n",
       "      <td>Precipitation(in)</td>\n",
       "      <td>41</td>\n",
       "    </tr>\n",
       "  </tbody>\n",
       "</table>\n",
       "</div>"
      ],
      "text/plain": [
       "              feature  count_of_unique_values\n",
       "0            Severity                       4\n",
       "1           Start_Lat                   14815\n",
       "2           Start_Lng                   14849\n",
       "3             End_Lat                   11430\n",
       "4             End_Lng                   11456\n",
       "5        Distance(mi)                    2867\n",
       "6      Temperature(F)                     118\n",
       "7       Wind_Chill(F)                     174\n",
       "8         Humidity(%)                      98\n",
       "9        Pressure(in)                     550\n",
       "10     Visibility(mi)                      25\n",
       "11    Wind_Speed(mph)                      45\n",
       "12  Precipitation(in)                      41"
      ]
     },
     "execution_count": 40,
     "metadata": {},
     "output_type": "execute_result"
    }
   ],
   "source": [
    "df_num=df1.select_dtypes(np.number)\n",
    "col_name=[]\n",
    "length=[]\n",
    "\n",
    "for i in df_num.columns:\n",
    "    col_name.append(i)\n",
    "    length.append(len(df_num[i].unique()))\n",
    "df_2=pd.DataFrame(zip(col_name,length),columns=['feature','count_of_unique_values'])\n",
    "df_2"
   ]
  },
  {
   "cell_type": "code",
   "execution_count": 41,
   "metadata": {
    "execution": {
     "iopub.execute_input": "2022-06-04T21:23:50.491704Z",
     "iopub.status.busy": "2022-06-04T21:23:50.491237Z",
     "iopub.status.idle": "2022-06-04T21:23:51.631525Z",
     "shell.execute_reply": "2022-06-04T21:23:51.630153Z",
     "shell.execute_reply.started": "2022-06-04T21:23:50.491669Z"
    }
   },
   "outputs": [
    {
     "data": {
      "text/plain": [
       "<AxesSubplot:>"
      ]
     },
     "execution_count": 41,
     "metadata": {},
     "output_type": "execute_result"
    },
    {
     "data": {
      "image/png": "[encoded data removed]",
      "text/plain": [
       "<Figure size 1080x648 with 2 Axes>"
      ]
     },
     "metadata": {
      "needs_background": "light"
     },
     "output_type": "display_data"
    }
   ],
   "source": [
    "plt.figure(figsize=(15 ,9))\n",
    "sns.heatmap(df_num.corr() , annot=True)"
   ]
  },
  {
   "cell_type": "code",
   "execution_count": 42,
   "metadata": {
    "execution": {
     "iopub.execute_input": "2022-06-04T21:23:51.633489Z",
     "iopub.status.busy": "2022-06-04T21:23:51.633156Z",
     "iopub.status.idle": "2022-06-04T21:23:51.719625Z",
     "shell.execute_reply": "2022-06-04T21:23:51.718823Z",
     "shell.execute_reply.started": "2022-06-04T21:23:51.633464Z"
    }
   },
   "outputs": [
    {
     "data": {
      "text/plain": [
       "847"
      ]
     },
     "execution_count": 42,
     "metadata": {},
     "output_type": "execute_result"
    }
   ],
   "source": [
    "cities = df1['City'].unique()\n",
    "len(cities)"
   ]
  },
  {
   "cell_type": "code",
   "execution_count": 43,
   "metadata": {
    "execution": {
     "iopub.execute_input": "2022-06-04T21:23:51.720914Z",
     "iopub.status.busy": "2022-06-04T21:23:51.720604Z",
     "iopub.status.idle": "2022-06-04T21:23:51.77655Z",
     "shell.execute_reply": "2022-06-04T21:23:51.775549Z",
     "shell.execute_reply.started": "2022-06-04T21:23:51.720891Z"
    }
   },
   "outputs": [
    {
     "data": {
      "text/plain": [
       "Los Angeles            1324\n",
       "Sacramento              615\n",
       "San Diego               506\n",
       "San Jose                293\n",
       "Riverside               236\n",
       "                       ... \n",
       "Woodside                  1\n",
       "Springville               1\n",
       "Capay                     1\n",
       "Onyx                      1\n",
       "Point Reyes Station       1\n",
       "Name: City, Length: 847, dtype: int64"
      ]
     },
     "execution_count": 43,
     "metadata": {},
     "output_type": "execute_result"
    }
   ],
   "source": [
    "accidents_by_cities = df1['City'].value_counts()\n",
    "accidents_by_cities"
   ]
  },
  {
   "cell_type": "code",
   "execution_count": 44,
   "metadata": {
    "execution": {
     "iopub.execute_input": "2022-06-04T21:23:51.778237Z",
     "iopub.status.busy": "2022-06-04T21:23:51.777895Z",
     "iopub.status.idle": "2022-06-04T21:23:51.801604Z",
     "shell.execute_reply": "2022-06-04T21:23:51.800299Z",
     "shell.execute_reply.started": "2022-06-04T21:23:51.778209Z"
    }
   },
   "outputs": [
    {
     "data": {
      "text/plain": [
       "Los Angeles       1324\n",
       "Sacramento         615\n",
       "San Diego          506\n",
       "San Jose           293\n",
       "Riverside          236\n",
       "Bakersfield        235\n",
       "San Bernardino     215\n",
       "Oakland            213\n",
       "Anaheim            199\n",
       "Ontario            193\n",
       "Name: City, dtype: int64"
      ]
     },
     "execution_count": 44,
     "metadata": {},
     "output_type": "execute_result"
    }
   ],
   "source": [
    "#top 10 cities by number of accident\n",
    "accidents_by_cities[:10]"
   ]
  },
  {
   "cell_type": "code",
   "execution_count": 45,
   "metadata": {
    "execution": {
     "iopub.execute_input": "2022-06-04T21:23:51.987421Z",
     "iopub.status.busy": "2022-06-04T21:23:51.986183Z",
     "iopub.status.idle": "2022-06-04T21:23:52.193696Z",
     "shell.execute_reply": "2022-06-04T21:23:52.192633Z",
     "shell.execute_reply.started": "2022-06-04T21:23:51.987352Z"
    }
   },
   "outputs": [
    {
     "data": {
      "image/png": "[encoded data removed]",
      "text/plain": [
       "<Figure size 576x360 with 1 Axes>"
      ]
     },
     "metadata": {
      "needs_background": "light"
     },
     "output_type": "display_data"
    }
   ],
   "source": [
    "fig, ax = plt.subplots(figsize=(8,5))\n",
    "accidents_by_cities[:10].plot(kind='bar')\n",
    "ax.set(title = 'Top 10 cities By Number of Accidents',\n",
    "       xlabel = 'Cities',\n",
    "       ylabel = 'Accidents Count')\n",
    "plt.show()"
   ]
  },
  {
   "cell_type": "code",
   "execution_count": 46,
   "metadata": {
    "execution": {
     "iopub.execute_input": "2022-06-04T22:09:53.668449Z",
     "iopub.status.busy": "2022-06-04T22:09:53.666879Z",
     "iopub.status.idle": "2022-06-04T22:09:55.637344Z",
     "shell.execute_reply": "2022-06-04T22:09:55.636006Z",
     "shell.execute_reply.started": "2022-06-04T22:09:53.668377Z"
    }
   },
   "outputs": [
    {
     "data": {
      "text/plain": [
       "Severity\n",
       "1      126\n",
       "2    14434\n",
       "3     1175\n",
       "4      112\n",
       "Name: ID, dtype: int64"
      ]
     },
     "execution_count": 46,
     "metadata": {},
     "output_type": "execute_result"
    }
   ],
   "source": [
    "accidents_severity = df1.groupby('Severity').count()['ID']\n",
    "accidents_severity"
   ]
  },
  {
   "cell_type": "code",
   "execution_count": 47,
   "metadata": {
    "execution": {
     "iopub.execute_input": "2022-06-04T22:09:59.786962Z",
     "iopub.status.busy": "2022-06-04T22:09:59.786545Z",
     "iopub.status.idle": "2022-06-04T22:09:59.930042Z",
     "shell.execute_reply": "2022-06-04T22:09:59.928896Z",
     "shell.execute_reply.started": "2022-06-04T22:09:59.786929Z"
    }
   },
   "outputs": [
    {
     "data": {
      "image/png": "[encoded data removed]",
      "text/plain": [
       "<Figure size 576x432 with 1 Axes>"
      ]
     },
     "metadata": {},
     "output_type": "display_data"
    }
   ],
   "source": [
    "fig, ax = plt.subplots(figsize=(8, 6), subplot_kw=dict(aspect=\"equal\"))\n",
    "label = [1,2,3,4]\n",
    "plt.pie(accidents_severity, labels=label,\n",
    "        autopct='%1.1f%%', pctdistance=0.85)\n",
    "circle = plt.Circle( (0,0), 0.5, color='white')\n",
    "p=plt.gcf()\n",
    "p.gca().add_artist(circle)\n",
    "ax.set_title(\"Accident by Severity\",fontdict={'fontsize': 16})\n",
    "plt.tight_layout()\n",
    "plt.show()"
   ]
  },
  {
   "cell_type": "code",
   "execution_count": 48,
   "metadata": {
    "execution": {
     "iopub.execute_input": "2022-06-04T21:33:16.42292Z",
     "iopub.status.busy": "2022-06-04T21:33:16.422518Z",
     "iopub.status.idle": "2022-06-04T21:33:16.430696Z",
     "shell.execute_reply": "2022-06-04T21:33:16.42968Z",
     "shell.execute_reply.started": "2022-06-04T21:33:16.42289Z"
    }
   },
   "outputs": [
    {
     "data": {
      "text/plain": [
       "dtype('O')"
      ]
     },
     "execution_count": 48,
     "metadata": {},
     "output_type": "execute_result"
    }
   ],
   "source": [
    "df1['Start_Time'].dtypes"
   ]
  },
  {
   "cell_type": "code",
   "execution_count": 49,
   "metadata": {
    "execution": {
     "iopub.execute_input": "2022-06-04T21:33:16.787219Z",
     "iopub.status.busy": "2022-06-04T21:33:16.786769Z",
     "iopub.status.idle": "2022-06-04T21:33:16.794926Z",
     "shell.execute_reply": "2022-06-04T21:33:16.793597Z",
     "shell.execute_reply.started": "2022-06-04T21:33:16.787186Z"
    }
   },
   "outputs": [
    {
     "data": {
      "text/plain": [
       "dtype('O')"
      ]
     },
     "execution_count": 49,
     "metadata": {},
     "output_type": "execute_result"
    }
   ],
   "source": [
    "df1['End_Time'].dtypes"
   ]
  },
  {
   "cell_type": "code",
   "execution_count": 50,
   "metadata": {
    "execution": {
     "iopub.execute_input": "2022-06-04T21:33:17.093326Z",
     "iopub.status.busy": "2022-06-04T21:33:17.092023Z",
     "iopub.status.idle": "2022-06-04T21:33:17.501624Z",
     "shell.execute_reply": "2022-06-04T21:33:17.500171Z",
     "shell.execute_reply.started": "2022-06-04T21:33:17.093273Z"
    }
   },
   "outputs": [
    {
     "data": {
      "text/plain": [
       "dtype('<M8[ns]')"
      ]
     },
     "execution_count": 50,
     "metadata": {},
     "output_type": "execute_result"
    }
   ],
   "source": [
    "df1 = df1.astype({'Start_Time': 'datetime64[ns]', 'End_Time': 'datetime64[ns]'})\n",
    "df1['Start_Time'].dtypes"
   ]
  },
  {
   "cell_type": "code",
   "execution_count": 51,
   "metadata": {},
   "outputs": [
    {
     "data": {
      "text/plain": [
       "15847"
      ]
     },
     "execution_count": 51,
     "metadata": {},
     "output_type": "execute_result"
    }
   ],
   "source": [
    "len(df1)"
   ]
  },
  {
   "cell_type": "code",
   "execution_count": 68,
   "metadata": {
    "execution": {
     "iopub.execute_input": "2022-06-04T21:33:35.483392Z",
     "iopub.status.busy": "2022-06-04T21:33:35.482615Z",
     "iopub.status.idle": "2022-06-04T21:33:36.069638Z",
     "shell.execute_reply": "2022-06-04T21:33:36.067572Z",
     "shell.execute_reply.started": "2022-06-04T21:33:35.483349Z"
    }
   },
   "outputs": [
    {
     "data": {
      "image/png": "[encoded data removed]",
      "text/plain": [
       "<Figure size 576x360 with 1 Axes>"
      ]
     },
     "metadata": {
      "needs_background": "light"
     },
     "output_type": "display_data"
    }
   ],
   "source": [
    "fig, ax = plt.subplots(figsize=(8,5))\n",
    "sns.histplot(df1['Start_Time'].dt.hour, bins = 24)\n",
    "\n",
    "plt.xlabel(\"Start Time\")\n",
    "plt.ylabel(\"Number of Occurence\")\n",
    "plt.title('Accidents Count By Time of Day')\n",
    "\n",
    "plt.show()"
   ]
  },
  {
   "cell_type": "code",
   "execution_count": 69,
   "metadata": {
    "execution": {
     "iopub.execute_input": "2022-06-04T21:33:36.073185Z",
     "iopub.status.busy": "2022-06-04T21:33:36.072645Z",
     "iopub.status.idle": "2022-06-04T21:33:36.967577Z",
     "shell.execute_reply": "2022-06-04T21:33:36.966072Z",
     "shell.execute_reply.started": "2022-06-04T21:33:36.073152Z"
    }
   },
   "outputs": [
    {
     "data": {
      "image/png": "[encoded data removed]",
      "text/plain": [
       "<Figure size 576x360 with 1 Axes>"
      ]
     },
     "metadata": {
      "needs_background": "light"
     },
     "output_type": "display_data"
    }
   ],
   "source": [
    "fig, ax = plt.subplots(figsize=(8,5))\n",
    "sns.histplot(df1['Start_Time'].dt.hour, bins = 24)\n",
    "\n",
    "plt.xlabel(\"End_Time\")\n",
    "plt.ylabel(\"Number of Occurence\")\n",
    "plt.title('Accidents Count By Time of Day')\n",
    "\n",
    "plt.show()"
   ]
  },
  {
   "cell_type": "code",
   "execution_count": 56,
   "metadata": {
    "execution": {
     "iopub.status.busy": "2022-06-04T21:20:49.919958Z",
     "iopub.status.idle": "2022-06-04T21:20:49.920308Z",
     "shell.execute_reply": "2022-06-04T21:20:49.920161Z",
     "shell.execute_reply.started": "2022-06-04T21:20:49.920141Z"
    }
   },
   "outputs": [
    {
     "data": {
      "text/plain": [
       "(15847, 42)"
      ]
     },
     "execution_count": 56,
     "metadata": {},
     "output_type": "execute_result"
    }
   ],
   "source": [
    "df1.shape  # shape of data after removing null values "
   ]
  },
  {
   "cell_type": "code",
   "execution_count": 58,
   "metadata": {
    "execution": {
     "iopub.status.busy": "2022-06-04T21:20:49.921285Z",
     "iopub.status.idle": "2022-06-04T21:20:49.921601Z",
     "shell.execute_reply": "2022-06-04T21:20:49.921463Z",
     "shell.execute_reply.started": "2022-06-04T21:20:49.921447Z"
    }
   },
   "outputs": [
    {
     "data": {
      "text/plain": [
       "(15847, 13)"
      ]
     },
     "execution_count": 58,
     "metadata": {},
     "output_type": "execute_result"
    }
   ],
   "source": [
    "df_num.shape"
   ]
  },
  {
   "cell_type": "code",
   "execution_count": 63,
   "metadata": {
    "execution": {
     "iopub.execute_input": "2022-06-04T22:10:48.342119Z",
     "iopub.status.busy": "2022-06-04T22:10:48.341454Z",
     "iopub.status.idle": "2022-06-04T22:10:49.941449Z",
     "shell.execute_reply": "2022-06-04T22:10:49.940037Z",
     "shell.execute_reply.started": "2022-06-04T22:10:48.342061Z"
    }
   },
   "outputs": [
    {
     "data": {
      "text/plain": [
       "Severity\n",
       "1      126\n",
       "2    14434\n",
       "3     1175\n",
       "4      112\n",
       "Name: ID, dtype: int64"
      ]
     },
     "execution_count": 63,
     "metadata": {},
     "output_type": "execute_result"
    }
   ],
   "source": [
    "# Accidents by order of severity (1 being lowest, and 4 being highest)\n",
    "\n",
    "df1.groupby('Severity').count()['ID']"
   ]
  },
  {
   "cell_type": "code",
   "execution_count": null,
   "metadata": {
    "execution": {
     "iopub.status.busy": "2022-06-04T21:20:49.924421Z",
     "iopub.status.idle": "2022-06-04T21:20:49.924958Z",
     "shell.execute_reply": "2022-06-04T21:20:49.924754Z",
     "shell.execute_reply.started": "2022-06-04T21:20:49.924733Z"
    }
   },
   "outputs": [],
   "source": [
    "# scatter plot"
   ]
  },
  {
   "cell_type": "code",
   "execution_count": 64,
   "metadata": {
    "execution": {
     "iopub.execute_input": "2022-06-04T22:10:55.537174Z",
     "iopub.status.busy": "2022-06-04T22:10:55.536703Z",
     "iopub.status.idle": "2022-06-04T22:10:56.952594Z",
     "shell.execute_reply": "2022-06-04T22:10:56.950882Z",
     "shell.execute_reply.started": "2022-06-04T22:10:55.537146Z"
    }
   },
   "outputs": [
    {
     "data": {
      "text/plain": [
       "<AxesSubplot:xlabel='Severity', ylabel='Start_Lat'>"
      ]
     },
     "execution_count": 64,
     "metadata": {},
     "output_type": "execute_result"
    },
    {
     "data": {
      "image/png": "[encoded data removed]",
      "text/plain": [
       "<Figure size 432x288 with 1 Axes>"
      ]
     },
     "metadata": {
      "needs_background": "light"
     },
     "output_type": "display_data"
    }
   ],
   "source": [
    "\n",
    "df_num.plot(kind='scatter', y='Start_Lat', x='Severity')\n"
   ]
  },
  {
   "cell_type": "code",
   "execution_count": 65,
   "metadata": {
    "execution": {
     "iopub.execute_input": "2022-06-04T22:18:55.652653Z",
     "iopub.status.busy": "2022-06-04T22:18:55.652257Z",
     "iopub.status.idle": "2022-06-04T22:18:58.915637Z",
     "shell.execute_reply": "2022-06-04T22:18:58.91423Z",
     "shell.execute_reply.started": "2022-06-04T22:18:55.652623Z"
    }
   },
   "outputs": [
    {
     "data": {
      "image/png": "[encoded data removed]",
      "text/plain": [
       "<Figure size 720x720 with 3 Axes>"
      ]
     },
     "metadata": {
      "needs_background": "light"
     },
     "output_type": "display_data"
    }
   ],
   "source": [
    "sns.jointplot(x=df_num.Start_Lat.values , y=df_num.Start_Lng.values,height=10)\n",
    "plt.ylabel('Start lattitude', fontsize=12)\n",
    "plt.xlabel('Start lattitude', fontsize=12)\n",
    "plt.show()"
   ]
  },
  {
   "cell_type": "code",
   "execution_count": 66,
   "metadata": {
    "execution": {
     "iopub.execute_input": "2022-06-04T22:18:30.603071Z",
     "iopub.status.busy": "2022-06-04T22:18:30.602467Z",
     "iopub.status.idle": "2022-06-04T22:18:33.285068Z",
     "shell.execute_reply": "2022-06-04T22:18:33.283253Z",
     "shell.execute_reply.started": "2022-06-04T22:18:30.603028Z"
    }
   },
   "outputs": [
    {
     "data": {
      "image/png": "[encoded data removed]",
      "text/plain": [
       "<Figure size 720x720 with 3 Axes>"
      ]
     },
     "metadata": {
      "needs_background": "light"
     },
     "output_type": "display_data"
    }
   ],
   "source": [
    "sns.jointplot(x=df_num.End_Lat.values , y=df_num.End_Lng.values,height=10)\n",
    "plt.ylabel('end lattitude', fontsize=12)\n",
    "plt.xlabel('end longitude', fontsize=12)\n",
    "plt.show()"
   ]
  }
 ],
 "metadata": {
  "kaggle": {
   "accelerator": "none",
   "dataSources": [
    {
     "datasetId": 199387,
     "sourceId": 5793796,
     "sourceType": "datasetVersion"
    }
   ],
   "dockerImageVersionId": 30197,
   "isGpuEnabled": false,
   "isInternetEnabled": false,
   "language": "python",
   "sourceType": "notebook"
  },
  "kernelspec": {
   "display_name": "Python 3 (ipykernel)",
   "language": "python",
   "name": "python3"
  },
  "language_info": {
   "codemirror_mode": {
    "name": "ipython",
    "version": 3
   },
   "file_extension": ".py",
   "mimetype": "text/x-python",
   "name": "python",
   "nbconvert_exporter": "python",
   "pygments_lexer": "ipython3",
   "version": "3.11.5"
  }
 },
 "nbformat": 4,
 "nbformat_minor": 4
}
